{
 "cells": [
  {
   "cell_type": "code",
   "execution_count": 71,
   "id": "3789ea88",
   "metadata": {},
   "outputs": [],
   "source": [
    "import pandas as pd\n",
    "import numpy as np \n",
    "import matplotlib.pyplot as plt\n",
    "import seaborn as sns\n",
    "%matplotlib inline"
   ]
  },
  {
   "cell_type": "markdown",
   "id": "a9977856",
   "metadata": {},
   "source": [
    "Reading the dataset"
   ]
  },
  {
   "cell_type": "code",
   "execution_count": 5,
   "id": "64a2ffe7",
   "metadata": {},
   "outputs": [],
   "source": [
    "df=pd.read_csv(r\"E:\\Machine Learning Project\\LaptopPrice\\laptopPrice.csv\")"
   ]
  },
  {
   "cell_type": "code",
   "execution_count": 6,
   "id": "60bf382d",
   "metadata": {},
   "outputs": [
    {
     "data": {
      "text/html": [
       "<div>\n",
       "<style scoped>\n",
       "    .dataframe tbody tr th:only-of-type {\n",
       "        vertical-align: middle;\n",
       "    }\n",
       "\n",
       "    .dataframe tbody tr th {\n",
       "        vertical-align: top;\n",
       "    }\n",
       "\n",
       "    .dataframe thead th {\n",
       "        text-align: right;\n",
       "    }\n",
       "</style>\n",
       "<table border=\"1\" class=\"dataframe\">\n",
       "  <thead>\n",
       "    <tr style=\"text-align: right;\">\n",
       "      <th></th>\n",
       "      <th>brand</th>\n",
       "      <th>processor_brand</th>\n",
       "      <th>processor_name</th>\n",
       "      <th>processor_gnrtn</th>\n",
       "      <th>ram_gb</th>\n",
       "      <th>ram_type</th>\n",
       "      <th>ssd</th>\n",
       "      <th>hdd</th>\n",
       "      <th>os</th>\n",
       "      <th>os_bit</th>\n",
       "      <th>graphic_card_gb</th>\n",
       "      <th>weight</th>\n",
       "      <th>warranty</th>\n",
       "      <th>Touchscreen</th>\n",
       "      <th>msoffice</th>\n",
       "      <th>Price</th>\n",
       "      <th>rating</th>\n",
       "      <th>Number of Ratings</th>\n",
       "      <th>Number of Reviews</th>\n",
       "    </tr>\n",
       "  </thead>\n",
       "  <tbody>\n",
       "    <tr>\n",
       "      <th>0</th>\n",
       "      <td>ASUS</td>\n",
       "      <td>Intel</td>\n",
       "      <td>Core i3</td>\n",
       "      <td>10th</td>\n",
       "      <td>4 GB</td>\n",
       "      <td>DDR4</td>\n",
       "      <td>0 GB</td>\n",
       "      <td>1024 GB</td>\n",
       "      <td>Windows</td>\n",
       "      <td>64-bit</td>\n",
       "      <td>0 GB</td>\n",
       "      <td>Casual</td>\n",
       "      <td>No warranty</td>\n",
       "      <td>No</td>\n",
       "      <td>No</td>\n",
       "      <td>34649</td>\n",
       "      <td>2 stars</td>\n",
       "      <td>3</td>\n",
       "      <td>0</td>\n",
       "    </tr>\n",
       "    <tr>\n",
       "      <th>1</th>\n",
       "      <td>Lenovo</td>\n",
       "      <td>Intel</td>\n",
       "      <td>Core i3</td>\n",
       "      <td>10th</td>\n",
       "      <td>4 GB</td>\n",
       "      <td>DDR4</td>\n",
       "      <td>0 GB</td>\n",
       "      <td>1024 GB</td>\n",
       "      <td>Windows</td>\n",
       "      <td>64-bit</td>\n",
       "      <td>0 GB</td>\n",
       "      <td>Casual</td>\n",
       "      <td>No warranty</td>\n",
       "      <td>No</td>\n",
       "      <td>No</td>\n",
       "      <td>38999</td>\n",
       "      <td>3 stars</td>\n",
       "      <td>65</td>\n",
       "      <td>5</td>\n",
       "    </tr>\n",
       "    <tr>\n",
       "      <th>2</th>\n",
       "      <td>Lenovo</td>\n",
       "      <td>Intel</td>\n",
       "      <td>Core i3</td>\n",
       "      <td>10th</td>\n",
       "      <td>4 GB</td>\n",
       "      <td>DDR4</td>\n",
       "      <td>0 GB</td>\n",
       "      <td>1024 GB</td>\n",
       "      <td>Windows</td>\n",
       "      <td>64-bit</td>\n",
       "      <td>0 GB</td>\n",
       "      <td>Casual</td>\n",
       "      <td>No warranty</td>\n",
       "      <td>No</td>\n",
       "      <td>No</td>\n",
       "      <td>39999</td>\n",
       "      <td>3 stars</td>\n",
       "      <td>8</td>\n",
       "      <td>1</td>\n",
       "    </tr>\n",
       "    <tr>\n",
       "      <th>3</th>\n",
       "      <td>ASUS</td>\n",
       "      <td>Intel</td>\n",
       "      <td>Core i5</td>\n",
       "      <td>10th</td>\n",
       "      <td>8 GB</td>\n",
       "      <td>DDR4</td>\n",
       "      <td>512 GB</td>\n",
       "      <td>0 GB</td>\n",
       "      <td>Windows</td>\n",
       "      <td>32-bit</td>\n",
       "      <td>2 GB</td>\n",
       "      <td>Casual</td>\n",
       "      <td>No warranty</td>\n",
       "      <td>No</td>\n",
       "      <td>No</td>\n",
       "      <td>69990</td>\n",
       "      <td>3 stars</td>\n",
       "      <td>0</td>\n",
       "      <td>0</td>\n",
       "    </tr>\n",
       "    <tr>\n",
       "      <th>4</th>\n",
       "      <td>ASUS</td>\n",
       "      <td>Intel</td>\n",
       "      <td>Celeron Dual</td>\n",
       "      <td>Not Available</td>\n",
       "      <td>4 GB</td>\n",
       "      <td>DDR4</td>\n",
       "      <td>0 GB</td>\n",
       "      <td>512 GB</td>\n",
       "      <td>Windows</td>\n",
       "      <td>64-bit</td>\n",
       "      <td>0 GB</td>\n",
       "      <td>Casual</td>\n",
       "      <td>No warranty</td>\n",
       "      <td>No</td>\n",
       "      <td>No</td>\n",
       "      <td>26990</td>\n",
       "      <td>3 stars</td>\n",
       "      <td>0</td>\n",
       "      <td>0</td>\n",
       "    </tr>\n",
       "  </tbody>\n",
       "</table>\n",
       "</div>"
      ],
      "text/plain": [
       "    brand processor_brand processor_name processor_gnrtn ram_gb ram_type  \\\n",
       "0    ASUS           Intel        Core i3            10th   4 GB     DDR4   \n",
       "1  Lenovo           Intel        Core i3            10th   4 GB     DDR4   \n",
       "2  Lenovo           Intel        Core i3            10th   4 GB     DDR4   \n",
       "3    ASUS           Intel        Core i5            10th   8 GB     DDR4   \n",
       "4    ASUS           Intel   Celeron Dual   Not Available   4 GB     DDR4   \n",
       "\n",
       "      ssd      hdd       os  os_bit graphic_card_gb  weight     warranty  \\\n",
       "0    0 GB  1024 GB  Windows  64-bit            0 GB  Casual  No warranty   \n",
       "1    0 GB  1024 GB  Windows  64-bit            0 GB  Casual  No warranty   \n",
       "2    0 GB  1024 GB  Windows  64-bit            0 GB  Casual  No warranty   \n",
       "3  512 GB     0 GB  Windows  32-bit            2 GB  Casual  No warranty   \n",
       "4    0 GB   512 GB  Windows  64-bit            0 GB  Casual  No warranty   \n",
       "\n",
       "  Touchscreen msoffice  Price   rating  Number of Ratings  Number of Reviews  \n",
       "0          No       No  34649  2 stars                  3                  0  \n",
       "1          No       No  38999  3 stars                 65                  5  \n",
       "2          No       No  39999  3 stars                  8                  1  \n",
       "3          No       No  69990  3 stars                  0                  0  \n",
       "4          No       No  26990  3 stars                  0                  0  "
      ]
     },
     "execution_count": 6,
     "metadata": {},
     "output_type": "execute_result"
    }
   ],
   "source": [
    "df.head()"
   ]
  },
  {
   "cell_type": "code",
   "execution_count": 7,
   "id": "39fb63d4",
   "metadata": {},
   "outputs": [
    {
     "data": {
      "text/plain": [
       "(823, 19)"
      ]
     },
     "execution_count": 7,
     "metadata": {},
     "output_type": "execute_result"
    }
   ],
   "source": [
    "df.shape"
   ]
  },
  {
   "cell_type": "markdown",
   "id": "b723d49a",
   "metadata": {},
   "source": [
    "# ##Data Checks\n",
    "Checking missing values\n",
    "\n",
    "Checking duplicates\n",
    "\n",
    "Checking data types of each column\n",
    "\n",
    "Checking the number of unique values of each column\n",
    "\n",
    "Checking statistics of data set\n",
    "\n",
    "Checking various categories present in different categorical column\n"
   ]
  },
  {
   "cell_type": "code",
   "execution_count": 8,
   "id": "d799988c",
   "metadata": {},
   "outputs": [
    {
     "data": {
      "text/plain": [
       "brand                0\n",
       "processor_brand      0\n",
       "processor_name       0\n",
       "processor_gnrtn      0\n",
       "ram_gb               0\n",
       "ram_type             0\n",
       "ssd                  0\n",
       "hdd                  0\n",
       "os                   0\n",
       "os_bit               0\n",
       "graphic_card_gb      0\n",
       "weight               0\n",
       "warranty             0\n",
       "Touchscreen          0\n",
       "msoffice             0\n",
       "Price                0\n",
       "rating               0\n",
       "Number of Ratings    0\n",
       "Number of Reviews    0\n",
       "dtype: int64"
      ]
     },
     "execution_count": 8,
     "metadata": {},
     "output_type": "execute_result"
    }
   ],
   "source": [
    "df.isnull().sum()"
   ]
  },
  {
   "cell_type": "code",
   "execution_count": 9,
   "id": "1921fa2e",
   "metadata": {},
   "outputs": [
    {
     "data": {
      "text/plain": [
       "21"
      ]
     },
     "execution_count": 9,
     "metadata": {},
     "output_type": "execute_result"
    }
   ],
   "source": [
    "df.duplicated().sum()"
   ]
  },
  {
   "cell_type": "markdown",
   "id": "2889a4cd",
   "metadata": {},
   "source": [
    "So , it contains 21 duplicate values .. removing the same in the next line of code"
   ]
  },
  {
   "cell_type": "code",
   "execution_count": 10,
   "id": "cb90dbcb",
   "metadata": {},
   "outputs": [],
   "source": [
    "df=df.drop_duplicates()"
   ]
  },
  {
   "cell_type": "code",
   "execution_count": 11,
   "id": "f479904b",
   "metadata": {},
   "outputs": [
    {
     "data": {
      "text/plain": [
       "(802, 19)"
      ]
     },
     "execution_count": 11,
     "metadata": {},
     "output_type": "execute_result"
    }
   ],
   "source": [
    "# size of datset after removing the duplicate values\n",
    "df.shape"
   ]
  },
  {
   "cell_type": "code",
   "execution_count": 12,
   "id": "8359f346",
   "metadata": {},
   "outputs": [
    {
     "name": "stdout",
     "output_type": "stream",
     "text": [
      "<class 'pandas.core.frame.DataFrame'>\n",
      "Int64Index: 802 entries, 0 to 822\n",
      "Data columns (total 19 columns):\n",
      " #   Column             Non-Null Count  Dtype \n",
      "---  ------             --------------  ----- \n",
      " 0   brand              802 non-null    object\n",
      " 1   processor_brand    802 non-null    object\n",
      " 2   processor_name     802 non-null    object\n",
      " 3   processor_gnrtn    802 non-null    object\n",
      " 4   ram_gb             802 non-null    object\n",
      " 5   ram_type           802 non-null    object\n",
      " 6   ssd                802 non-null    object\n",
      " 7   hdd                802 non-null    object\n",
      " 8   os                 802 non-null    object\n",
      " 9   os_bit             802 non-null    object\n",
      " 10  graphic_card_gb    802 non-null    object\n",
      " 11  weight             802 non-null    object\n",
      " 12  warranty           802 non-null    object\n",
      " 13  Touchscreen        802 non-null    object\n",
      " 14  msoffice           802 non-null    object\n",
      " 15  Price              802 non-null    int64 \n",
      " 16  rating             802 non-null    object\n",
      " 17  Number of Ratings  802 non-null    int64 \n",
      " 18  Number of Reviews  802 non-null    int64 \n",
      "dtypes: int64(3), object(16)\n",
      "memory usage: 125.3+ KB\n"
     ]
    }
   ],
   "source": [
    "df.info()"
   ]
  },
  {
   "cell_type": "code",
   "execution_count": 13,
   "id": "6a361c00",
   "metadata": {},
   "outputs": [
    {
     "data": {
      "text/plain": [
       "brand                  8\n",
       "processor_brand        3\n",
       "processor_name        11\n",
       "processor_gnrtn        8\n",
       "ram_gb                 4\n",
       "ram_type               6\n",
       "ssd                    7\n",
       "hdd                    4\n",
       "os                     3\n",
       "os_bit                 2\n",
       "graphic_card_gb        5\n",
       "weight                 3\n",
       "warranty               4\n",
       "Touchscreen            2\n",
       "msoffice               2\n",
       "Price                405\n",
       "rating                 5\n",
       "Number of Ratings    282\n",
       "Number of Reviews    135\n",
       "dtype: int64"
      ]
     },
     "execution_count": 13,
     "metadata": {},
     "output_type": "execute_result"
    }
   ],
   "source": [
    "df.nunique()"
   ]
  },
  {
   "cell_type": "code",
   "execution_count": 14,
   "id": "9b4f2881",
   "metadata": {},
   "outputs": [
    {
     "data": {
      "text/plain": [
       "No     522\n",
       "Yes    280\n",
       "Name: msoffice, dtype: int64"
      ]
     },
     "execution_count": 14,
     "metadata": {},
     "output_type": "execute_result"
    }
   ],
   "source": [
    "df[('msoffice')].value_counts()"
   ]
  },
  {
   "cell_type": "code",
   "execution_count": 15,
   "id": "792c4d83",
   "metadata": {},
   "outputs": [
    {
     "data": {
      "text/plain": [
       "No     706\n",
       "Yes     96\n",
       "Name: Touchscreen, dtype: int64"
      ]
     },
     "execution_count": 15,
     "metadata": {},
     "output_type": "execute_result"
    }
   ],
   "source": [
    "df[('Touchscreen')].value_counts()"
   ]
  },
  {
   "cell_type": "code",
   "execution_count": 16,
   "id": "eb089e1c",
   "metadata": {},
   "outputs": [
    {
     "data": {
      "text/plain": [
       "64-bit    693\n",
       "32-bit    109\n",
       "Name: os_bit, dtype: int64"
      ]
     },
     "execution_count": 16,
     "metadata": {},
     "output_type": "execute_result"
    }
   ],
   "source": [
    "df[('os_bit')].value_counts()"
   ]
  },
  {
   "cell_type": "code",
   "execution_count": 17,
   "id": "8b81ee79",
   "metadata": {},
   "outputs": [
    {
     "data": {
      "text/html": [
       "<div>\n",
       "<style scoped>\n",
       "    .dataframe tbody tr th:only-of-type {\n",
       "        vertical-align: middle;\n",
       "    }\n",
       "\n",
       "    .dataframe tbody tr th {\n",
       "        vertical-align: top;\n",
       "    }\n",
       "\n",
       "    .dataframe thead th {\n",
       "        text-align: right;\n",
       "    }\n",
       "</style>\n",
       "<table border=\"1\" class=\"dataframe\">\n",
       "  <thead>\n",
       "    <tr style=\"text-align: right;\">\n",
       "      <th></th>\n",
       "      <th>Price</th>\n",
       "      <th>Number of Ratings</th>\n",
       "      <th>Number of Reviews</th>\n",
       "    </tr>\n",
       "  </thead>\n",
       "  <tbody>\n",
       "    <tr>\n",
       "      <th>count</th>\n",
       "      <td>802.000000</td>\n",
       "      <td>802.00000</td>\n",
       "      <td>802.000000</td>\n",
       "    </tr>\n",
       "    <tr>\n",
       "      <th>mean</th>\n",
       "      <td>76625.543641</td>\n",
       "      <td>299.84414</td>\n",
       "      <td>36.089776</td>\n",
       "    </tr>\n",
       "    <tr>\n",
       "      <th>std</th>\n",
       "      <td>45232.984422</td>\n",
       "      <td>1001.78442</td>\n",
       "      <td>118.313553</td>\n",
       "    </tr>\n",
       "    <tr>\n",
       "      <th>min</th>\n",
       "      <td>16990.000000</td>\n",
       "      <td>0.00000</td>\n",
       "      <td>0.000000</td>\n",
       "    </tr>\n",
       "    <tr>\n",
       "      <th>25%</th>\n",
       "      <td>45990.000000</td>\n",
       "      <td>0.00000</td>\n",
       "      <td>0.000000</td>\n",
       "    </tr>\n",
       "    <tr>\n",
       "      <th>50%</th>\n",
       "      <td>63990.000000</td>\n",
       "      <td>17.00000</td>\n",
       "      <td>2.000000</td>\n",
       "    </tr>\n",
       "    <tr>\n",
       "      <th>75%</th>\n",
       "      <td>89525.000000</td>\n",
       "      <td>140.25000</td>\n",
       "      <td>18.000000</td>\n",
       "    </tr>\n",
       "    <tr>\n",
       "      <th>max</th>\n",
       "      <td>441990.000000</td>\n",
       "      <td>15279.00000</td>\n",
       "      <td>1947.000000</td>\n",
       "    </tr>\n",
       "  </tbody>\n",
       "</table>\n",
       "</div>"
      ],
      "text/plain": [
       "               Price  Number of Ratings  Number of Reviews\n",
       "count     802.000000          802.00000         802.000000\n",
       "mean    76625.543641          299.84414          36.089776\n",
       "std     45232.984422         1001.78442         118.313553\n",
       "min     16990.000000            0.00000           0.000000\n",
       "25%     45990.000000            0.00000           0.000000\n",
       "50%     63990.000000           17.00000           2.000000\n",
       "75%     89525.000000          140.25000          18.000000\n",
       "max    441990.000000        15279.00000        1947.000000"
      ]
     },
     "execution_count": 17,
     "metadata": {},
     "output_type": "execute_result"
    }
   ],
   "source": [
    "# checking statistical inferences\n",
    "df.describe()"
   ]
  },
  {
   "cell_type": "code",
   "execution_count": 18,
   "id": "4f63d221",
   "metadata": {},
   "outputs": [
    {
     "data": {
      "text/plain": [
       "Index(['brand', 'processor_brand', 'processor_name', 'processor_gnrtn',\n",
       "       'ram_gb', 'ram_type', 'ssd', 'hdd', 'os', 'os_bit', 'graphic_card_gb',\n",
       "       'weight', 'warranty', 'Touchscreen', 'msoffice', 'Price', 'rating',\n",
       "       'Number of Ratings', 'Number of Reviews'],\n",
       "      dtype='object')"
      ]
     },
     "execution_count": 18,
     "metadata": {},
     "output_type": "execute_result"
    }
   ],
   "source": [
    "df.columns"
   ]
  },
  {
   "cell_type": "markdown",
   "id": "78b8caff",
   "metadata": {},
   "source": [
    "Segementise the columns according to their data types"
   ]
  },
  {
   "cell_type": "code",
   "execution_count": 19,
   "id": "97cce44f",
   "metadata": {},
   "outputs": [],
   "source": [
    "num_col = [col for col in df.columns if df[col].dtype != 'object']\n",
    "cat_col = [col for col in df.columns if df[col].dtype == 'object']"
   ]
  },
  {
   "cell_type": "code",
   "execution_count": 20,
   "id": "0d7f99a7",
   "metadata": {},
   "outputs": [
    {
     "name": "stdout",
     "output_type": "stream",
     "text": [
      "Numerical Columns are : ['Price', 'Number of Ratings', 'Number of Reviews']\n",
      "Categorical Columns are : ['brand', 'processor_brand', 'processor_name', 'processor_gnrtn', 'ram_gb', 'ram_type', 'ssd', 'hdd', 'os', 'os_bit', 'graphic_card_gb', 'weight', 'warranty', 'Touchscreen', 'msoffice', 'rating']\n"
     ]
    }
   ],
   "source": [
    "print('Numerical Columns are :' ,num_col)\n",
    "print('Categorical Columns are :' ,cat_col)"
   ]
  },
  {
   "cell_type": "code",
   "execution_count": 21,
   "id": "2afcb493",
   "metadata": {},
   "outputs": [
    {
     "data": {
      "text/plain": [
       "['Price', 'Number of Ratings', 'Number of Reviews']"
      ]
     },
     "execution_count": 21,
     "metadata": {},
     "output_type": "execute_result"
    }
   ],
   "source": [
    "df_num = list(num_col)\n",
    "df_num"
   ]
  },
  {
   "cell_type": "markdown",
   "id": "104fe8d7",
   "metadata": {},
   "source": [
    "EDA and Visualization"
   ]
  },
  {
   "cell_type": "code",
   "execution_count": 22,
   "id": "a2dafbff",
   "metadata": {},
   "outputs": [
    {
     "data": {
      "text/plain": [
       "array([[<AxesSubplot:title={'center':'Price'}>,\n",
       "        <AxesSubplot:title={'center':'Number of Ratings'}>],\n",
       "       [<AxesSubplot:title={'center':'Number of Reviews'}>,\n",
       "        <AxesSubplot:>]], dtype=object)"
      ]
     },
     "execution_count": 22,
     "metadata": {},
     "output_type": "execute_result"
    },
    {
     "data": {
      "image/png": "[encoded data removed]",
      "text/plain": [
       "<Figure size 1152x1440 with 4 Axes>"
      ]
     },
     "metadata": {
      "needs_background": "light"
     },
     "output_type": "display_data"
    }
   ],
   "source": [
    "# Histograms \n",
    "df_num = df[['Price','Number of Ratings','Number of Reviews']]\n",
    "df_num.hist(figsize=(16, 20), bins=50, xlabelsize=8, ylabelsize=8,legend='bool')"
   ]
  },
  {
   "cell_type": "markdown",
   "id": "74866941",
   "metadata": {},
   "source": [
    "So, we can see some outliers here in both the three columns"
   ]
  },
  {
   "cell_type": "code",
   "execution_count": 23,
   "id": "6907964c",
   "metadata": {},
   "outputs": [
    {
     "data": {
      "text/plain": [
       "<AxesSubplot:xlabel='brand', ylabel='Price'>"
      ]
     },
     "execution_count": 23,
     "metadata": {},
     "output_type": "execute_result"
    },
    {
     "data": {
      "image/png": "[encoded data removed]",
      "text/plain": [
       "<Figure size 432x288 with 1 Axes>"
      ]
     },
     "metadata": {
      "needs_background": "light"
     },
     "output_type": "display_data"
    }
   ],
   "source": [
    "sns.scatterplot(data=df,x='brand',y='Price',hue='rating',palette='deep',sizes=(25,30))"
   ]
  },
  {
   "cell_type": "code",
   "execution_count": 24,
   "id": "e3525460",
   "metadata": {},
   "outputs": [
    {
     "data": {
      "text/html": [
       "<div>\n",
       "<style scoped>\n",
       "    .dataframe tbody tr th:only-of-type {\n",
       "        vertical-align: middle;\n",
       "    }\n",
       "\n",
       "    .dataframe tbody tr th {\n",
       "        vertical-align: top;\n",
       "    }\n",
       "\n",
       "    .dataframe thead th {\n",
       "        text-align: right;\n",
       "    }\n",
       "</style>\n",
       "<table border=\"1\" class=\"dataframe\">\n",
       "  <thead>\n",
       "    <tr style=\"text-align: right;\">\n",
       "      <th></th>\n",
       "      <th>brand</th>\n",
       "      <th>processor_brand</th>\n",
       "      <th>processor_name</th>\n",
       "      <th>processor_gnrtn</th>\n",
       "      <th>ram_gb</th>\n",
       "      <th>ram_type</th>\n",
       "      <th>ssd</th>\n",
       "      <th>hdd</th>\n",
       "      <th>os</th>\n",
       "      <th>os_bit</th>\n",
       "      <th>graphic_card_gb</th>\n",
       "      <th>weight</th>\n",
       "      <th>warranty</th>\n",
       "      <th>Touchscreen</th>\n",
       "      <th>msoffice</th>\n",
       "      <th>Price</th>\n",
       "      <th>rating</th>\n",
       "      <th>Number of Ratings</th>\n",
       "      <th>Number of Reviews</th>\n",
       "    </tr>\n",
       "  </thead>\n",
       "  <tbody>\n",
       "    <tr>\n",
       "      <th>0</th>\n",
       "      <td>ASUS</td>\n",
       "      <td>Intel</td>\n",
       "      <td>Core i3</td>\n",
       "      <td>10th</td>\n",
       "      <td>4 GB</td>\n",
       "      <td>DDR4</td>\n",
       "      <td>0 GB</td>\n",
       "      <td>1024 GB</td>\n",
       "      <td>Windows</td>\n",
       "      <td>64-bit</td>\n",
       "      <td>0 GB</td>\n",
       "      <td>Casual</td>\n",
       "      <td>No warranty</td>\n",
       "      <td>No</td>\n",
       "      <td>No</td>\n",
       "      <td>34649</td>\n",
       "      <td>2 stars</td>\n",
       "      <td>3</td>\n",
       "      <td>0</td>\n",
       "    </tr>\n",
       "    <tr>\n",
       "      <th>1</th>\n",
       "      <td>Lenovo</td>\n",
       "      <td>Intel</td>\n",
       "      <td>Core i3</td>\n",
       "      <td>10th</td>\n",
       "      <td>4 GB</td>\n",
       "      <td>DDR4</td>\n",
       "      <td>0 GB</td>\n",
       "      <td>1024 GB</td>\n",
       "      <td>Windows</td>\n",
       "      <td>64-bit</td>\n",
       "      <td>0 GB</td>\n",
       "      <td>Casual</td>\n",
       "      <td>No warranty</td>\n",
       "      <td>No</td>\n",
       "      <td>No</td>\n",
       "      <td>38999</td>\n",
       "      <td>3 stars</td>\n",
       "      <td>65</td>\n",
       "      <td>5</td>\n",
       "    </tr>\n",
       "    <tr>\n",
       "      <th>2</th>\n",
       "      <td>Lenovo</td>\n",
       "      <td>Intel</td>\n",
       "      <td>Core i3</td>\n",
       "      <td>10th</td>\n",
       "      <td>4 GB</td>\n",
       "      <td>DDR4</td>\n",
       "      <td>0 GB</td>\n",
       "      <td>1024 GB</td>\n",
       "      <td>Windows</td>\n",
       "      <td>64-bit</td>\n",
       "      <td>0 GB</td>\n",
       "      <td>Casual</td>\n",
       "      <td>No warranty</td>\n",
       "      <td>No</td>\n",
       "      <td>No</td>\n",
       "      <td>39999</td>\n",
       "      <td>3 stars</td>\n",
       "      <td>8</td>\n",
       "      <td>1</td>\n",
       "    </tr>\n",
       "    <tr>\n",
       "      <th>3</th>\n",
       "      <td>ASUS</td>\n",
       "      <td>Intel</td>\n",
       "      <td>Core i5</td>\n",
       "      <td>10th</td>\n",
       "      <td>8 GB</td>\n",
       "      <td>DDR4</td>\n",
       "      <td>512 GB</td>\n",
       "      <td>0 GB</td>\n",
       "      <td>Windows</td>\n",
       "      <td>32-bit</td>\n",
       "      <td>2 GB</td>\n",
       "      <td>Casual</td>\n",
       "      <td>No warranty</td>\n",
       "      <td>No</td>\n",
       "      <td>No</td>\n",
       "      <td>69990</td>\n",
       "      <td>3 stars</td>\n",
       "      <td>0</td>\n",
       "      <td>0</td>\n",
       "    </tr>\n",
       "    <tr>\n",
       "      <th>4</th>\n",
       "      <td>ASUS</td>\n",
       "      <td>Intel</td>\n",
       "      <td>Celeron Dual</td>\n",
       "      <td>Not Available</td>\n",
       "      <td>4 GB</td>\n",
       "      <td>DDR4</td>\n",
       "      <td>0 GB</td>\n",
       "      <td>512 GB</td>\n",
       "      <td>Windows</td>\n",
       "      <td>64-bit</td>\n",
       "      <td>0 GB</td>\n",
       "      <td>Casual</td>\n",
       "      <td>No warranty</td>\n",
       "      <td>No</td>\n",
       "      <td>No</td>\n",
       "      <td>26990</td>\n",
       "      <td>3 stars</td>\n",
       "      <td>0</td>\n",
       "      <td>0</td>\n",
       "    </tr>\n",
       "  </tbody>\n",
       "</table>\n",
       "</div>"
      ],
      "text/plain": [
       "    brand processor_brand processor_name processor_gnrtn ram_gb ram_type  \\\n",
       "0    ASUS           Intel        Core i3            10th   4 GB     DDR4   \n",
       "1  Lenovo           Intel        Core i3            10th   4 GB     DDR4   \n",
       "2  Lenovo           Intel        Core i3            10th   4 GB     DDR4   \n",
       "3    ASUS           Intel        Core i5            10th   8 GB     DDR4   \n",
       "4    ASUS           Intel   Celeron Dual   Not Available   4 GB     DDR4   \n",
       "\n",
       "      ssd      hdd       os  os_bit graphic_card_gb  weight     warranty  \\\n",
       "0    0 GB  1024 GB  Windows  64-bit            0 GB  Casual  No warranty   \n",
       "1    0 GB  1024 GB  Windows  64-bit            0 GB  Casual  No warranty   \n",
       "2    0 GB  1024 GB  Windows  64-bit            0 GB  Casual  No warranty   \n",
       "3  512 GB     0 GB  Windows  32-bit            2 GB  Casual  No warranty   \n",
       "4    0 GB   512 GB  Windows  64-bit            0 GB  Casual  No warranty   \n",
       "\n",
       "  Touchscreen msoffice  Price   rating  Number of Ratings  Number of Reviews  \n",
       "0          No       No  34649  2 stars                  3                  0  \n",
       "1          No       No  38999  3 stars                 65                  5  \n",
       "2          No       No  39999  3 stars                  8                  1  \n",
       "3          No       No  69990  3 stars                  0                  0  \n",
       "4          No       No  26990  3 stars                  0                  0  "
      ]
     },
     "execution_count": 24,
     "metadata": {},
     "output_type": "execute_result"
    }
   ],
   "source": [
    "df.head()"
   ]
  },
  {
   "cell_type": "code",
   "execution_count": 25,
   "id": "d832c715",
   "metadata": {},
   "outputs": [
    {
     "data": {
      "text/plain": [
       "<AxesSubplot:xlabel='brand', ylabel='Price'>"
      ]
     },
     "execution_count": 25,
     "metadata": {},
     "output_type": "execute_result"
    },
    {
     "data": {
      "image/png": "[encoded data removed]",
      "text/plain": [
       "<Figure size 432x288 with 1 Axes>"
      ]
     },
     "metadata": {
      "needs_background": "light"
     },
     "output_type": "display_data"
    }
   ],
   "source": [
    "sns.scatterplot(data=df,x='brand',y='Price',hue='ssd',palette='deep',sizes=(25,30))"
   ]
  },
  {
   "cell_type": "code",
   "execution_count": 26,
   "id": "ac963e3a",
   "metadata": {},
   "outputs": [
    {
     "data": {
      "text/plain": [
       "<AxesSubplot:xlabel='ram_gb', ylabel='Price'>"
      ]
     },
     "execution_count": 26,
     "metadata": {},
     "output_type": "execute_result"
    },
    {
     "data": {
      "image/png": "[encoded data removed]",
      "text/plain": [
       "<Figure size 432x288 with 1 Axes>"
      ]
     },
     "metadata": {
      "needs_background": "light"
     },
     "output_type": "display_data"
    }
   ],
   "source": [
    "sns.scatterplot(data=df,x='ram_gb',y='Price',hue='ram_type',palette='deep',sizes=(25,30))\n"
   ]
  },
  {
   "cell_type": "code",
   "execution_count": 27,
   "id": "a3fc7ff8",
   "metadata": {},
   "outputs": [
    {
     "data": {
      "text/plain": [
       "<AxesSubplot:xlabel='brand', ylabel='Number of Reviews'>"
      ]
     },
     "execution_count": 27,
     "metadata": {},
     "output_type": "execute_result"
    },
    {
     "data": {
      "image/png": "[encoded data removed]",
      "text/plain": [
       "<Figure size 432x288 with 1 Axes>"
      ]
     },
     "metadata": {
      "needs_background": "light"
     },
     "output_type": "display_data"
    }
   ],
   "source": [
    "sns.scatterplot(data=df,x='brand',y='Number of Reviews',hue='processor_brand',palette='deep',sizes=(25,30))"
   ]
  },
  {
   "cell_type": "code",
   "execution_count": 28,
   "id": "069fd816",
   "metadata": {},
   "outputs": [
    {
     "data": {
      "text/plain": [
       "<AxesSubplot:xlabel='brand', ylabel='Number of Ratings'>"
      ]
     },
     "execution_count": 28,
     "metadata": {},
     "output_type": "execute_result"
    },
    {
     "data": {
      "image/png": "[encoded data removed]",
      "text/plain": [
       "<Figure size 432x288 with 1 Axes>"
      ]
     },
     "metadata": {
      "needs_background": "light"
     },
     "output_type": "display_data"
    }
   ],
   "source": [
    "sns.scatterplot(data=df,x='brand',y='Number of Ratings',hue='processor_brand',palette='deep',sizes=(25,30))"
   ]
  },
  {
   "cell_type": "markdown",
   "id": "874ad7fd",
   "metadata": {},
   "source": [
    "So, from above all the scatter plots we can see outliers in all three continous columns \n",
    "and also the ditribution of different features with target can be seen"
   ]
  },
  {
   "cell_type": "code",
   "execution_count": 29,
   "id": "40118dd1",
   "metadata": {},
   "outputs": [
    {
     "data": {
      "text/plain": [
       "<AxesSubplot:xlabel='Price'>"
      ]
     },
     "execution_count": 29,
     "metadata": {},
     "output_type": "execute_result"
    },
    {
     "data": {
      "image/png": "[encoded data removed]",
      "text/plain": [
       "<Figure size 432x288 with 1 Axes>"
      ]
     },
     "metadata": {
      "needs_background": "light"
     },
     "output_type": "display_data"
    }
   ],
   "source": [
    "# Box Plot\n",
    "sns.boxplot(data=df_num,x='Price')"
   ]
  },
  {
   "cell_type": "code",
   "execution_count": 30,
   "id": "9c4d15e2",
   "metadata": {},
   "outputs": [
    {
     "data": {
      "text/plain": [
       "<AxesSubplot:xlabel='Number of Ratings'>"
      ]
     },
     "execution_count": 30,
     "metadata": {},
     "output_type": "execute_result"
    },
    {
     "data": {
      "image/png": "[encoded data removed]",
      "text/plain": [
       "<Figure size 432x288 with 1 Axes>"
      ]
     },
     "metadata": {
      "needs_background": "light"
     },
     "output_type": "display_data"
    }
   ],
   "source": [
    "sns.boxplot(data=df,x='Number of Ratings')"
   ]
  },
  {
   "cell_type": "code",
   "execution_count": 31,
   "id": "9a2190a6",
   "metadata": {},
   "outputs": [
    {
     "data": {
      "text/plain": [
       "<AxesSubplot:xlabel='Number of Reviews'>"
      ]
     },
     "execution_count": 31,
     "metadata": {},
     "output_type": "execute_result"
    },
    {
     "data": {
      "image/png": "[encoded data removed]",
      "text/plain": [
       "<Figure size 432x288 with 1 Axes>"
      ]
     },
     "metadata": {
      "needs_background": "light"
     },
     "output_type": "display_data"
    }
   ],
   "source": [
    "sns.boxplot(data=df,x='Number of Reviews')"
   ]
  },
  {
   "cell_type": "markdown",
   "id": "475ed68a",
   "metadata": {},
   "source": [
    "Treatment of outliers"
   ]
  },
  {
   "cell_type": "code",
   "execution_count": 45,
   "id": "aa26f15b",
   "metadata": {},
   "outputs": [
    {
     "data": {
      "text/plain": [
       "(768, 3)"
      ]
     },
     "execution_count": 45,
     "metadata": {},
     "output_type": "execute_result"
    }
   ],
   "source": [
    "from scipy import stats\n",
    "z_scores = stats.zscore(df_num)\n",
    "abs_z_scores = np.abs(z_scores)\n",
    "filtered_entries = (abs_z_scores < 3).all(axis=1)\n",
    "new_df_num_z = df_num[filtered_entries]\n",
    "new_df_num_z.shape"
   ]
  },
  {
   "cell_type": "code",
   "execution_count": 46,
   "id": "ec5788d2",
   "metadata": {},
   "outputs": [
    {
     "data": {
      "text/plain": [
       "4.239401496259352"
      ]
     },
     "execution_count": 46,
     "metadata": {},
     "output_type": "execute_result"
    }
   ],
   "source": [
    "percnt_rem_z=((len(df_num)-len(new_df_num_z))/len(df_num))*100\n",
    "percnt_rem_z"
   ]
  },
  {
   "cell_type": "code",
   "execution_count": 47,
   "id": "9ffaa192",
   "metadata": {},
   "outputs": [
    {
     "data": {
      "text/plain": [
       "(619, 3)"
      ]
     },
     "execution_count": 47,
     "metadata": {},
     "output_type": "execute_result"
    }
   ],
   "source": [
    "Q1 = df_num.quantile(0.25)\n",
    "Q3 = df_num.quantile(0.75)\n",
    "IQR = Q3 - Q1\n",
    "filtered_entries = ~((df_num < (Q1 - 1.50 * IQR)) |(df_num > (Q3 + 1.50 * IQR))).any(axis=1)\n",
    "new_df_num_iqr = df_num[filtered_entries]\n",
    "new_df_num_iqr.shape"
   ]
  },
  {
   "cell_type": "code",
   "execution_count": 48,
   "id": "5f3217f9",
   "metadata": {},
   "outputs": [
    {
     "data": {
      "text/plain": [
       "22.81795511221945"
      ]
     },
     "execution_count": 48,
     "metadata": {},
     "output_type": "execute_result"
    }
   ],
   "source": [
    "percnt_rem_iqr=((len(df_num)-len(new_df_num_iqr))/len(df_num))*100\n",
    "percnt_rem_iqr"
   ]
  },
  {
   "cell_type": "code",
   "execution_count": 49,
   "id": "1ce9b0f8",
   "metadata": {},
   "outputs": [
    {
     "data": {
      "text/plain": [
       "(802, 3)"
      ]
     },
     "execution_count": 49,
     "metadata": {},
     "output_type": "execute_result"
    }
   ],
   "source": [
    "df_num.shape"
   ]
  },
  {
   "cell_type": "markdown",
   "id": "7a2e5960",
   "metadata": {},
   "source": [
    "So, we can see using IQR method removes 22.82% of the data , but Z score methods removes little more than 4.2% , as the datset is not larger I will consider the removal of outliers using Z score only"
   ]
  },
  {
   "cell_type": "code",
   "execution_count": 50,
   "id": "416ef5a3",
   "metadata": {},
   "outputs": [],
   "source": [
    "# Define the names of the three common columns\n",
    "common_cols = ['Price', 'Number of Ratings', 'Number of Reviews']\n",
    "\n",
    "# Merge the datasets based on the three common columns, keeping the index of the smaller dataset\n",
    "merged_df = pd.merge(new_df_num_z, df.drop_duplicates(subset=common_cols),on=common_cols,how='inner')\n",
    "# merged_df.set_index(smaller_df.index, inplace=True)"
   ]
  },
  {
   "cell_type": "code",
   "execution_count": 51,
   "id": "f7af5821",
   "metadata": {},
   "outputs": [
    {
     "data": {
      "text/plain": [
       "(768, 19)"
      ]
     },
     "execution_count": 51,
     "metadata": {},
     "output_type": "execute_result"
    }
   ],
   "source": [
    "merged_df.shape"
   ]
  },
  {
   "cell_type": "code",
   "execution_count": 52,
   "id": "3d1de435",
   "metadata": {},
   "outputs": [
    {
     "data": {
      "text/html": [
       "<div>\n",
       "<style scoped>\n",
       "    .dataframe tbody tr th:only-of-type {\n",
       "        vertical-align: middle;\n",
       "    }\n",
       "\n",
       "    .dataframe tbody tr th {\n",
       "        vertical-align: top;\n",
       "    }\n",
       "\n",
       "    .dataframe thead th {\n",
       "        text-align: right;\n",
       "    }\n",
       "</style>\n",
       "<table border=\"1\" class=\"dataframe\">\n",
       "  <thead>\n",
       "    <tr style=\"text-align: right;\">\n",
       "      <th></th>\n",
       "      <th>Price</th>\n",
       "      <th>Number of Ratings</th>\n",
       "      <th>Number of Reviews</th>\n",
       "      <th>brand</th>\n",
       "      <th>processor_brand</th>\n",
       "      <th>processor_name</th>\n",
       "      <th>processor_gnrtn</th>\n",
       "      <th>ram_gb</th>\n",
       "      <th>ram_type</th>\n",
       "      <th>ssd</th>\n",
       "      <th>hdd</th>\n",
       "      <th>os</th>\n",
       "      <th>os_bit</th>\n",
       "      <th>graphic_card_gb</th>\n",
       "      <th>weight</th>\n",
       "      <th>warranty</th>\n",
       "      <th>Touchscreen</th>\n",
       "      <th>msoffice</th>\n",
       "      <th>rating</th>\n",
       "    </tr>\n",
       "  </thead>\n",
       "  <tbody>\n",
       "    <tr>\n",
       "      <th>0</th>\n",
       "      <td>34649</td>\n",
       "      <td>3</td>\n",
       "      <td>0</td>\n",
       "      <td>ASUS</td>\n",
       "      <td>Intel</td>\n",
       "      <td>Core i3</td>\n",
       "      <td>10th</td>\n",
       "      <td>4 GB</td>\n",
       "      <td>DDR4</td>\n",
       "      <td>0 GB</td>\n",
       "      <td>1024 GB</td>\n",
       "      <td>Windows</td>\n",
       "      <td>64-bit</td>\n",
       "      <td>0 GB</td>\n",
       "      <td>Casual</td>\n",
       "      <td>No warranty</td>\n",
       "      <td>No</td>\n",
       "      <td>No</td>\n",
       "      <td>2 stars</td>\n",
       "    </tr>\n",
       "    <tr>\n",
       "      <th>1</th>\n",
       "      <td>38999</td>\n",
       "      <td>65</td>\n",
       "      <td>5</td>\n",
       "      <td>Lenovo</td>\n",
       "      <td>Intel</td>\n",
       "      <td>Core i3</td>\n",
       "      <td>10th</td>\n",
       "      <td>4 GB</td>\n",
       "      <td>DDR4</td>\n",
       "      <td>0 GB</td>\n",
       "      <td>1024 GB</td>\n",
       "      <td>Windows</td>\n",
       "      <td>64-bit</td>\n",
       "      <td>0 GB</td>\n",
       "      <td>Casual</td>\n",
       "      <td>No warranty</td>\n",
       "      <td>No</td>\n",
       "      <td>No</td>\n",
       "      <td>3 stars</td>\n",
       "    </tr>\n",
       "    <tr>\n",
       "      <th>2</th>\n",
       "      <td>39999</td>\n",
       "      <td>8</td>\n",
       "      <td>1</td>\n",
       "      <td>Lenovo</td>\n",
       "      <td>Intel</td>\n",
       "      <td>Core i3</td>\n",
       "      <td>10th</td>\n",
       "      <td>4 GB</td>\n",
       "      <td>DDR4</td>\n",
       "      <td>0 GB</td>\n",
       "      <td>1024 GB</td>\n",
       "      <td>Windows</td>\n",
       "      <td>64-bit</td>\n",
       "      <td>0 GB</td>\n",
       "      <td>Casual</td>\n",
       "      <td>No warranty</td>\n",
       "      <td>No</td>\n",
       "      <td>No</td>\n",
       "      <td>3 stars</td>\n",
       "    </tr>\n",
       "    <tr>\n",
       "      <th>3</th>\n",
       "      <td>69990</td>\n",
       "      <td>0</td>\n",
       "      <td>0</td>\n",
       "      <td>ASUS</td>\n",
       "      <td>Intel</td>\n",
       "      <td>Core i5</td>\n",
       "      <td>10th</td>\n",
       "      <td>8 GB</td>\n",
       "      <td>DDR4</td>\n",
       "      <td>512 GB</td>\n",
       "      <td>0 GB</td>\n",
       "      <td>Windows</td>\n",
       "      <td>32-bit</td>\n",
       "      <td>2 GB</td>\n",
       "      <td>Casual</td>\n",
       "      <td>No warranty</td>\n",
       "      <td>No</td>\n",
       "      <td>No</td>\n",
       "      <td>3 stars</td>\n",
       "    </tr>\n",
       "    <tr>\n",
       "      <th>4</th>\n",
       "      <td>26990</td>\n",
       "      <td>0</td>\n",
       "      <td>0</td>\n",
       "      <td>ASUS</td>\n",
       "      <td>Intel</td>\n",
       "      <td>Celeron Dual</td>\n",
       "      <td>Not Available</td>\n",
       "      <td>4 GB</td>\n",
       "      <td>DDR4</td>\n",
       "      <td>0 GB</td>\n",
       "      <td>512 GB</td>\n",
       "      <td>Windows</td>\n",
       "      <td>64-bit</td>\n",
       "      <td>0 GB</td>\n",
       "      <td>Casual</td>\n",
       "      <td>No warranty</td>\n",
       "      <td>No</td>\n",
       "      <td>No</td>\n",
       "      <td>3 stars</td>\n",
       "    </tr>\n",
       "  </tbody>\n",
       "</table>\n",
       "</div>"
      ],
      "text/plain": [
       "   Price  Number of Ratings  Number of Reviews   brand processor_brand  \\\n",
       "0  34649                  3                  0    ASUS           Intel   \n",
       "1  38999                 65                  5  Lenovo           Intel   \n",
       "2  39999                  8                  1  Lenovo           Intel   \n",
       "3  69990                  0                  0    ASUS           Intel   \n",
       "4  26990                  0                  0    ASUS           Intel   \n",
       "\n",
       "  processor_name processor_gnrtn ram_gb ram_type     ssd      hdd       os  \\\n",
       "0        Core i3            10th   4 GB     DDR4    0 GB  1024 GB  Windows   \n",
       "1        Core i3            10th   4 GB     DDR4    0 GB  1024 GB  Windows   \n",
       "2        Core i3            10th   4 GB     DDR4    0 GB  1024 GB  Windows   \n",
       "3        Core i5            10th   8 GB     DDR4  512 GB     0 GB  Windows   \n",
       "4   Celeron Dual   Not Available   4 GB     DDR4    0 GB   512 GB  Windows   \n",
       "\n",
       "   os_bit graphic_card_gb  weight     warranty Touchscreen msoffice   rating  \n",
       "0  64-bit            0 GB  Casual  No warranty          No       No  2 stars  \n",
       "1  64-bit            0 GB  Casual  No warranty          No       No  3 stars  \n",
       "2  64-bit            0 GB  Casual  No warranty          No       No  3 stars  \n",
       "3  32-bit            2 GB  Casual  No warranty          No       No  3 stars  \n",
       "4  64-bit            0 GB  Casual  No warranty          No       No  3 stars  "
      ]
     },
     "execution_count": 52,
     "metadata": {},
     "output_type": "execute_result"
    }
   ],
   "source": [
    "merged_df.head()"
   ]
  },
  {
   "cell_type": "markdown",
   "id": "fcc589c0",
   "metadata": {},
   "source": [
    "Multivariate Analysis"
   ]
  },
  {
   "cell_type": "code",
   "execution_count": 54,
   "id": "1635b7ed",
   "metadata": {},
   "outputs": [
    {
     "data": {
      "text/plain": [
       "211753"
      ]
     },
     "execution_count": 54,
     "metadata": {},
     "output_type": "execute_result"
    }
   ],
   "source": [
    "# Pie Charts\n",
    "merged_df['Price'].max()"
   ]
  },
  {
   "cell_type": "code",
   "execution_count": 69,
   "id": "02d84955",
   "metadata": {},
   "outputs": [
    {
     "data": {
      "text/plain": [
       "Price\n",
       "16990     Lenovo\n",
       "17490      Avita\n",
       "17990       ASUS\n",
       "18990       ASUS\n",
       "20490       ASUS\n",
       "           ...  \n",
       "192990       MSI\n",
       "194990      ASUS\n",
       "199990      ASUS\n",
       "207290       MSI\n",
       "211753    Lenovo\n",
       "Name: brand, Length: 388, dtype: object"
      ]
     },
     "execution_count": 69,
     "metadata": {},
     "output_type": "execute_result"
    }
   ],
   "source": [
    "merged_df.groupby('Price')['brand'].max()"
   ]
  },
  {
   "cell_type": "code",
   "execution_count": 62,
   "id": "6a1f64e8",
   "metadata": {},
   "outputs": [],
   "source": [
    "df_asus=merged_df[merged_df['brand']=='ASUS']\n",
    "df_asus['Price'].max()"
   ]
  },
  {
   "cell_type": "code",
   "execution_count": 85,
   "id": "1ed9e642",
   "metadata": {
    "scrolled": true
   },
   "outputs": [
    {
     "data": {
      "image/png": "[encoded data removed]",
      "text/plain": [
       "<Figure size 1800x720 with 2 Axes>"
      ]
     },
     "metadata": {
      "needs_background": "light"
     },
     "output_type": "display_data"
    }
   ],
   "source": [
    "f,ax=plt.subplots(1,2,figsize=(25,10))\n",
    "Group_data = merged_df.groupby('brand')\n",
    "sns.barplot(x = Group_data ['Price'].mean().index, y = Group_data['Price'].mean().values,ax= ax[0],  palette = 'mako')\n",
    "for container in ax[0].containers:\n",
    "    ax[0].bar_label(container,color='black',size=20)\n",
    "    \n",
    "palette_color = sns.color_palette('rainbow')\n",
    "plt.pie(x = merged_df['brand'].value_counts(),labels=merged_df['brand'].value_counts().index,autopct='%.0f%%',shadow=True,\n",
    "        colors= palette_color,radius=1.1)\n",
    "plt.show() \n"
   ]
  },
  {
   "cell_type": "code",
   "execution_count": 88,
   "id": "98e88a84",
   "metadata": {},
   "outputs": [
    {
     "data": {
      "image/png": "[encoded data removed]",
      "text/plain": [
       "<Figure size 1800x720 with 2 Axes>"
      ]
     },
     "metadata": {
      "needs_background": "light"
     },
     "output_type": "display_data"
    }
   ],
   "source": [
    "f,ax=plt.subplots(1,2,figsize=(25,10))\n",
    "Group_data = merged_df.groupby('processor_brand')\n",
    "sns.barplot(x = Group_data ['Price'].mean().index, y = Group_data['Price'].mean().values,ax= ax[0],  palette = 'mako')\n",
    "for container in ax[0].containers:\n",
    "    ax[0].bar_label(container,color='black',size=20)\n",
    "    \n",
    "palette_color = sns.color_palette('summer')\n",
    "plt.pie(x = merged_df['processor_brand'].value_counts(),labels=merged_df['processor_brand'].value_counts().index,autopct='%.0f%%',shadow=True,\n",
    "        colors= palette_color,radius=1.1)\n",
    "plt.show() \n"
   ]
  },
  {
   "cell_type": "code",
   "execution_count": 87,
   "id": "03d523b5",
   "metadata": {},
   "outputs": [
    {
     "data": {
      "text/html": [
       "<div>\n",
       "<style scoped>\n",
       "    .dataframe tbody tr th:only-of-type {\n",
       "        vertical-align: middle;\n",
       "    }\n",
       "\n",
       "    .dataframe tbody tr th {\n",
       "        vertical-align: top;\n",
       "    }\n",
       "\n",
       "    .dataframe thead th {\n",
       "        text-align: right;\n",
       "    }\n",
       "</style>\n",
       "<table border=\"1\" class=\"dataframe\">\n",
       "  <thead>\n",
       "    <tr style=\"text-align: right;\">\n",
       "      <th></th>\n",
       "      <th>Price</th>\n",
       "      <th>Number of Ratings</th>\n",
       "      <th>Number of Reviews</th>\n",
       "      <th>brand</th>\n",
       "      <th>processor_brand</th>\n",
       "      <th>processor_name</th>\n",
       "      <th>processor_gnrtn</th>\n",
       "      <th>ram_gb</th>\n",
       "      <th>ram_type</th>\n",
       "      <th>ssd</th>\n",
       "      <th>hdd</th>\n",
       "      <th>os</th>\n",
       "      <th>os_bit</th>\n",
       "      <th>graphic_card_gb</th>\n",
       "      <th>weight</th>\n",
       "      <th>warranty</th>\n",
       "      <th>Touchscreen</th>\n",
       "      <th>msoffice</th>\n",
       "      <th>rating</th>\n",
       "    </tr>\n",
       "  </thead>\n",
       "  <tbody>\n",
       "    <tr>\n",
       "      <th>0</th>\n",
       "      <td>34649</td>\n",
       "      <td>3</td>\n",
       "      <td>0</td>\n",
       "      <td>ASUS</td>\n",
       "      <td>Intel</td>\n",
       "      <td>Core i3</td>\n",
       "      <td>10th</td>\n",
       "      <td>4 GB</td>\n",
       "      <td>DDR4</td>\n",
       "      <td>0 GB</td>\n",
       "      <td>1024 GB</td>\n",
       "      <td>Windows</td>\n",
       "      <td>64-bit</td>\n",
       "      <td>0 GB</td>\n",
       "      <td>Casual</td>\n",
       "      <td>No warranty</td>\n",
       "      <td>No</td>\n",
       "      <td>No</td>\n",
       "      <td>2 stars</td>\n",
       "    </tr>\n",
       "    <tr>\n",
       "      <th>1</th>\n",
       "      <td>38999</td>\n",
       "      <td>65</td>\n",
       "      <td>5</td>\n",
       "      <td>Lenovo</td>\n",
       "      <td>Intel</td>\n",
       "      <td>Core i3</td>\n",
       "      <td>10th</td>\n",
       "      <td>4 GB</td>\n",
       "      <td>DDR4</td>\n",
       "      <td>0 GB</td>\n",
       "      <td>1024 GB</td>\n",
       "      <td>Windows</td>\n",
       "      <td>64-bit</td>\n",
       "      <td>0 GB</td>\n",
       "      <td>Casual</td>\n",
       "      <td>No warranty</td>\n",
       "      <td>No</td>\n",
       "      <td>No</td>\n",
       "      <td>3 stars</td>\n",
       "    </tr>\n",
       "    <tr>\n",
       "      <th>2</th>\n",
       "      <td>39999</td>\n",
       "      <td>8</td>\n",
       "      <td>1</td>\n",
       "      <td>Lenovo</td>\n",
       "      <td>Intel</td>\n",
       "      <td>Core i3</td>\n",
       "      <td>10th</td>\n",
       "      <td>4 GB</td>\n",
       "      <td>DDR4</td>\n",
       "      <td>0 GB</td>\n",
       "      <td>1024 GB</td>\n",
       "      <td>Windows</td>\n",
       "      <td>64-bit</td>\n",
       "      <td>0 GB</td>\n",
       "      <td>Casual</td>\n",
       "      <td>No warranty</td>\n",
       "      <td>No</td>\n",
       "      <td>No</td>\n",
       "      <td>3 stars</td>\n",
       "    </tr>\n",
       "    <tr>\n",
       "      <th>3</th>\n",
       "      <td>69990</td>\n",
       "      <td>0</td>\n",
       "      <td>0</td>\n",
       "      <td>ASUS</td>\n",
       "      <td>Intel</td>\n",
       "      <td>Core i5</td>\n",
       "      <td>10th</td>\n",
       "      <td>8 GB</td>\n",
       "      <td>DDR4</td>\n",
       "      <td>512 GB</td>\n",
       "      <td>0 GB</td>\n",
       "      <td>Windows</td>\n",
       "      <td>32-bit</td>\n",
       "      <td>2 GB</td>\n",
       "      <td>Casual</td>\n",
       "      <td>No warranty</td>\n",
       "      <td>No</td>\n",
       "      <td>No</td>\n",
       "      <td>3 stars</td>\n",
       "    </tr>\n",
       "    <tr>\n",
       "      <th>4</th>\n",
       "      <td>26990</td>\n",
       "      <td>0</td>\n",
       "      <td>0</td>\n",
       "      <td>ASUS</td>\n",
       "      <td>Intel</td>\n",
       "      <td>Celeron Dual</td>\n",
       "      <td>Not Available</td>\n",
       "      <td>4 GB</td>\n",
       "      <td>DDR4</td>\n",
       "      <td>0 GB</td>\n",
       "      <td>512 GB</td>\n",
       "      <td>Windows</td>\n",
       "      <td>64-bit</td>\n",
       "      <td>0 GB</td>\n",
       "      <td>Casual</td>\n",
       "      <td>No warranty</td>\n",
       "      <td>No</td>\n",
       "      <td>No</td>\n",
       "      <td>3 stars</td>\n",
       "    </tr>\n",
       "  </tbody>\n",
       "</table>\n",
       "</div>"
      ],
      "text/plain": [
       "   Price  Number of Ratings  Number of Reviews   brand processor_brand  \\\n",
       "0  34649                  3                  0    ASUS           Intel   \n",
       "1  38999                 65                  5  Lenovo           Intel   \n",
       "2  39999                  8                  1  Lenovo           Intel   \n",
       "3  69990                  0                  0    ASUS           Intel   \n",
       "4  26990                  0                  0    ASUS           Intel   \n",
       "\n",
       "  processor_name processor_gnrtn ram_gb ram_type     ssd      hdd       os  \\\n",
       "0        Core i3            10th   4 GB     DDR4    0 GB  1024 GB  Windows   \n",
       "1        Core i3            10th   4 GB     DDR4    0 GB  1024 GB  Windows   \n",
       "2        Core i3            10th   4 GB     DDR4    0 GB  1024 GB  Windows   \n",
       "3        Core i5            10th   8 GB     DDR4  512 GB     0 GB  Windows   \n",
       "4   Celeron Dual   Not Available   4 GB     DDR4    0 GB   512 GB  Windows   \n",
       "\n",
       "   os_bit graphic_card_gb  weight     warranty Touchscreen msoffice   rating  \n",
       "0  64-bit            0 GB  Casual  No warranty          No       No  2 stars  \n",
       "1  64-bit            0 GB  Casual  No warranty          No       No  3 stars  \n",
       "2  64-bit            0 GB  Casual  No warranty          No       No  3 stars  \n",
       "3  32-bit            2 GB  Casual  No warranty          No       No  3 stars  \n",
       "4  64-bit            0 GB  Casual  No warranty          No       No  3 stars  "
      ]
     },
     "execution_count": 87,
     "metadata": {},
     "output_type": "execute_result"
    }
   ],
   "source": [
    "merged_df.head()"
   ]
  },
  {
   "cell_type": "code",
   "execution_count": 93,
   "id": "aec4adce",
   "metadata": {},
   "outputs": [
    {
     "data": {
      "image/png": "[encoded data removed]",
      "text/plain": [
       "<Figure size 1800x720 with 2 Axes>"
      ]
     },
     "metadata": {
      "needs_background": "light"
     },
     "output_type": "display_data"
    }
   ],
   "source": [
    "f,ax=plt.subplots(1,2,figsize=(25,10))\n",
    "Group_data = merged_df.groupby('processor_name')\n",
    "sns.barplot(x = Group_data ['Price'].mean().index, y = Group_data['Price'].mean().values,ax= ax[0],  palette = 'mako')\n",
    "for container in ax[0].containers:\n",
    "    ax[0].bar_label(container,color='black',size=20)\n",
    "    \n",
    "palette_color = sns.color_palette('vlag')\n",
    "plt.pie(x = merged_df['processor_name'].value_counts(),labels=merged_df['processor_name'].value_counts().index,autopct='%.02f%%',shadow=True,\n",
    "        colors= palette_color,radius=1.4)\n",
    "plt.show() \n"
   ]
  },
  {
   "cell_type": "code",
   "execution_count": 96,
   "id": "55ebdd6d",
   "metadata": {},
   "outputs": [
    {
     "data": {
      "image/png": "[encoded data removed]",
      "text/plain": [
       "<Figure size 1800x720 with 2 Axes>"
      ]
     },
     "metadata": {
      "needs_background": "light"
     },
     "output_type": "display_data"
    }
   ],
   "source": [
    "f,ax=plt.subplots(1,2,figsize=(25,10))\n",
    "Group_data = merged_df.groupby('ram_type')\n",
    "sns.barplot(x = Group_data ['Price'].mean().index, y = Group_data['Price'].mean().values,ax= ax[0],  palette = 'vlag')\n",
    "for container in ax[0].containers:\n",
    "    ax[0].bar_label(container,color='black',size=20)\n",
    "    \n",
    "palette_color = sns.color_palette('icefire')\n",
    "plt.pie(x = merged_df['ram_type'].value_counts(),labels=merged_df['ram_type'].value_counts().index,autopct='%.01f%%',shadow=True,\n",
    "        colors= palette_color,radius=1.4)\n",
    "plt.show() \n"
   ]
  },
  {
   "cell_type": "code",
   "execution_count": 97,
   "id": "9cc9d331",
   "metadata": {},
   "outputs": [],
   "source": [
    "correlation=merged_df.corr()"
   ]
  },
  {
   "cell_type": "code",
   "execution_count": 99,
   "id": "41f2c049",
   "metadata": {},
   "outputs": [
    {
     "data": {
      "text/html": [
       "<div>\n",
       "<style scoped>\n",
       "    .dataframe tbody tr th:only-of-type {\n",
       "        vertical-align: middle;\n",
       "    }\n",
       "\n",
       "    .dataframe tbody tr th {\n",
       "        vertical-align: top;\n",
       "    }\n",
       "\n",
       "    .dataframe thead th {\n",
       "        text-align: right;\n",
       "    }\n",
       "</style>\n",
       "<table border=\"1\" class=\"dataframe\">\n",
       "  <thead>\n",
       "    <tr style=\"text-align: right;\">\n",
       "      <th></th>\n",
       "      <th>Price</th>\n",
       "      <th>Number of Ratings</th>\n",
       "      <th>Number of Reviews</th>\n",
       "    </tr>\n",
       "  </thead>\n",
       "  <tbody>\n",
       "    <tr>\n",
       "      <th>Price</th>\n",
       "      <td>1.000000</td>\n",
       "      <td>-0.207644</td>\n",
       "      <td>-0.200824</td>\n",
       "    </tr>\n",
       "    <tr>\n",
       "      <th>Number of Ratings</th>\n",
       "      <td>-0.207644</td>\n",
       "      <td>1.000000</td>\n",
       "      <td>0.982810</td>\n",
       "    </tr>\n",
       "    <tr>\n",
       "      <th>Number of Reviews</th>\n",
       "      <td>-0.200824</td>\n",
       "      <td>0.982810</td>\n",
       "      <td>1.000000</td>\n",
       "    </tr>\n",
       "  </tbody>\n",
       "</table>\n",
       "</div>"
      ],
      "text/plain": [
       "                      Price  Number of Ratings  Number of Reviews\n",
       "Price              1.000000          -0.207644          -0.200824\n",
       "Number of Ratings -0.207644           1.000000           0.982810\n",
       "Number of Reviews -0.200824           0.982810           1.000000"
      ]
     },
     "execution_count": 99,
     "metadata": {},
     "output_type": "execute_result"
    }
   ],
   "source": [
    "correlation.head()"
   ]
  },
  {
   "cell_type": "code",
   "execution_count": 98,
   "id": "d2325974",
   "metadata": {},
   "outputs": [
    {
     "data": {
      "image/png": "[encoded data removed]",
      "text/plain": [
       "<Figure size 432x288 with 2 Axes>"
      ]
     },
     "metadata": {
      "needs_background": "light"
     },
     "output_type": "display_data"
    }
   ],
   "source": [
    "ax = sns.heatmap(correlation, annot=True, cmap='coolwarm')\n",
    "ax.set_title('Correlatio Heatmap')\n",
    "plt.show()"
   ]
  },
  {
   "cell_type": "code",
   "execution_count": 119,
   "id": "076c6221",
   "metadata": {},
   "outputs": [],
   "source": [
    "temp_dict = {}\n",
    "for i in correlation.index:\n",
    "    for j in correlation.columns:\n",
    "        if (correlation.loc[i, j] > 0.75 and correlation.loc[i, j] < 1) or (correlation.loc[i, j] < -0.75):\n",
    "            temp_dict[i] = j"
   ]
  },
  {
   "cell_type": "code",
   "execution_count": 120,
   "id": "a55f59b2",
   "metadata": {},
   "outputs": [
    {
     "data": {
      "text/plain": [
       "{'Number of Ratings': 'Number of Reviews',\n",
       " 'Number of Reviews': 'Number of Ratings'}"
      ]
     },
     "execution_count": 120,
     "metadata": {},
     "output_type": "execute_result"
    }
   ],
   "source": [
    "temp_dict"
   ]
  },
  {
   "cell_type": "markdown",
   "id": "fd1fcc82",
   "metadata": {},
   "source": [
    "\n",
    "# Data Preprocessing "
   ]
  },
  {
   "cell_type": "markdown",
   "id": "ecdad188",
   "metadata": {},
   "source": [
    "Lebel Encoding"
   ]
  },
  {
   "cell_type": "code",
   "execution_count": 122,
   "id": "d4fc41fe",
   "metadata": {},
   "outputs": [],
   "source": [
    "df_lencoded=merged_df"
   ]
  },
  {
   "cell_type": "code",
   "execution_count": 129,
   "id": "2259d1a4",
   "metadata": {},
   "outputs": [],
   "source": [
    "from sklearn import preprocessing as PPC\n",
    "from sklearn.preprocessing import LabelEncoder\n",
    "\n",
    "# # define the columns to encode\n",
    "# col = ['job', 'marital', 'education','default','housing','loan','contact','month','poutcome','target']\n",
    "\n",
    "# # create a LabelEncoder object\n",
    "le = LabelEncoder()\n",
    "\n",
    "# # loop through each column and encode the values\n",
    "for col in cat_col:\n",
    "    df_lencoded[col] = le.fit_transform(df_lencoded[col])"
   ]
  },
  {
   "cell_type": "code",
   "execution_count": 128,
   "id": "f5a50292",
   "metadata": {},
   "outputs": [
    {
     "data": {
      "text/html": [
       "<div>\n",
       "<style scoped>\n",
       "    .dataframe tbody tr th:only-of-type {\n",
       "        vertical-align: middle;\n",
       "    }\n",
       "\n",
       "    .dataframe tbody tr th {\n",
       "        vertical-align: top;\n",
       "    }\n",
       "\n",
       "    .dataframe thead th {\n",
       "        text-align: right;\n",
       "    }\n",
       "</style>\n",
       "<table border=\"1\" class=\"dataframe\">\n",
       "  <thead>\n",
       "    <tr style=\"text-align: right;\">\n",
       "      <th></th>\n",
       "      <th>Price</th>\n",
       "      <th>Number of Ratings</th>\n",
       "      <th>Number of Reviews</th>\n",
       "      <th>brand</th>\n",
       "      <th>processor_brand</th>\n",
       "      <th>processor_name</th>\n",
       "      <th>processor_gnrtn</th>\n",
       "      <th>ram_gb</th>\n",
       "      <th>ram_type</th>\n",
       "      <th>ssd</th>\n",
       "      <th>hdd</th>\n",
       "      <th>os</th>\n",
       "      <th>os_bit</th>\n",
       "      <th>graphic_card_gb</th>\n",
       "      <th>weight</th>\n",
       "      <th>warranty</th>\n",
       "      <th>Touchscreen</th>\n",
       "      <th>msoffice</th>\n",
       "      <th>rating</th>\n",
       "    </tr>\n",
       "  </thead>\n",
       "  <tbody>\n",
       "    <tr>\n",
       "      <th>0</th>\n",
       "      <td>34649</td>\n",
       "      <td>3</td>\n",
       "      <td>0</td>\n",
       "      <td>1</td>\n",
       "      <td>1</td>\n",
       "      <td>1</td>\n",
       "      <td>0</td>\n",
       "      <td>2</td>\n",
       "      <td>1</td>\n",
       "      <td>0</td>\n",
       "      <td>1</td>\n",
       "      <td>2</td>\n",
       "      <td>1</td>\n",
       "      <td>0</td>\n",
       "      <td>0</td>\n",
       "      <td>3</td>\n",
       "      <td>0</td>\n",
       "      <td>0</td>\n",
       "      <td>1</td>\n",
       "    </tr>\n",
       "    <tr>\n",
       "      <th>1</th>\n",
       "      <td>38999</td>\n",
       "      <td>65</td>\n",
       "      <td>5</td>\n",
       "      <td>5</td>\n",
       "      <td>1</td>\n",
       "      <td>1</td>\n",
       "      <td>0</td>\n",
       "      <td>2</td>\n",
       "      <td>1</td>\n",
       "      <td>0</td>\n",
       "      <td>1</td>\n",
       "      <td>2</td>\n",
       "      <td>1</td>\n",
       "      <td>0</td>\n",
       "      <td>0</td>\n",
       "      <td>3</td>\n",
       "      <td>0</td>\n",
       "      <td>0</td>\n",
       "      <td>2</td>\n",
       "    </tr>\n",
       "    <tr>\n",
       "      <th>2</th>\n",
       "      <td>39999</td>\n",
       "      <td>8</td>\n",
       "      <td>1</td>\n",
       "      <td>5</td>\n",
       "      <td>1</td>\n",
       "      <td>1</td>\n",
       "      <td>0</td>\n",
       "      <td>2</td>\n",
       "      <td>1</td>\n",
       "      <td>0</td>\n",
       "      <td>1</td>\n",
       "      <td>2</td>\n",
       "      <td>1</td>\n",
       "      <td>0</td>\n",
       "      <td>0</td>\n",
       "      <td>3</td>\n",
       "      <td>0</td>\n",
       "      <td>0</td>\n",
       "      <td>2</td>\n",
       "    </tr>\n",
       "    <tr>\n",
       "      <th>3</th>\n",
       "      <td>69990</td>\n",
       "      <td>0</td>\n",
       "      <td>0</td>\n",
       "      <td>1</td>\n",
       "      <td>1</td>\n",
       "      <td>2</td>\n",
       "      <td>0</td>\n",
       "      <td>3</td>\n",
       "      <td>1</td>\n",
       "      <td>5</td>\n",
       "      <td>0</td>\n",
       "      <td>2</td>\n",
       "      <td>0</td>\n",
       "      <td>1</td>\n",
       "      <td>0</td>\n",
       "      <td>3</td>\n",
       "      <td>0</td>\n",
       "      <td>0</td>\n",
       "      <td>2</td>\n",
       "    </tr>\n",
       "    <tr>\n",
       "      <th>4</th>\n",
       "      <td>26990</td>\n",
       "      <td>0</td>\n",
       "      <td>0</td>\n",
       "      <td>1</td>\n",
       "      <td>1</td>\n",
       "      <td>0</td>\n",
       "      <td>7</td>\n",
       "      <td>2</td>\n",
       "      <td>1</td>\n",
       "      <td>0</td>\n",
       "      <td>3</td>\n",
       "      <td>2</td>\n",
       "      <td>1</td>\n",
       "      <td>0</td>\n",
       "      <td>0</td>\n",
       "      <td>3</td>\n",
       "      <td>0</td>\n",
       "      <td>0</td>\n",
       "      <td>2</td>\n",
       "    </tr>\n",
       "  </tbody>\n",
       "</table>\n",
       "</div>"
      ],
      "text/plain": [
       "   Price  Number of Ratings  Number of Reviews  brand  processor_brand  \\\n",
       "0  34649                  3                  0      1                1   \n",
       "1  38999                 65                  5      5                1   \n",
       "2  39999                  8                  1      5                1   \n",
       "3  69990                  0                  0      1                1   \n",
       "4  26990                  0                  0      1                1   \n",
       "\n",
       "   processor_name  processor_gnrtn  ram_gb  ram_type  ssd  hdd  os  os_bit  \\\n",
       "0               1                0       2         1    0    1   2       1   \n",
       "1               1                0       2         1    0    1   2       1   \n",
       "2               1                0       2         1    0    1   2       1   \n",
       "3               2                0       3         1    5    0   2       0   \n",
       "4               0                7       2         1    0    3   2       1   \n",
       "\n",
       "   graphic_card_gb  weight  warranty  Touchscreen  msoffice  rating  \n",
       "0                0       0         3            0         0       1  \n",
       "1                0       0         3            0         0       2  \n",
       "2                0       0         3            0         0       2  \n",
       "3                1       0         3            0         0       2  \n",
       "4                0       0         3            0         0       2  "
      ]
     },
     "execution_count": 128,
     "metadata": {},
     "output_type": "execute_result"
    }
   ],
   "source": [
    "df_lencoded.head()"
   ]
  },
  {
   "cell_type": "markdown",
   "id": "b13b51c8",
   "metadata": {},
   "source": [
    "MinMax Scaling "
   ]
  },
  {
   "cell_type": "code",
   "execution_count": 130,
   "id": "9687e11e",
   "metadata": {},
   "outputs": [],
   "source": [
    "scaler = PPC.MinMaxScaler(feature_range=(0, 1))\n",
    "\n",
    "features_scaled = scaler.fit_transform(df_lencoded)"
   ]
  },
  {
   "cell_type": "code",
   "execution_count": 134,
   "id": "743f0d5e",
   "metadata": {},
   "outputs": [],
   "source": [
    "df1=pd.DataFrame(features_scaled,columns=df_lencoded.columns)"
   ]
  },
  {
   "cell_type": "code",
   "execution_count": 135,
   "id": "1d9f39d0",
   "metadata": {},
   "outputs": [
    {
     "data": {
      "text/html": [
       "<div>\n",
       "<style scoped>\n",
       "    .dataframe tbody tr th:only-of-type {\n",
       "        vertical-align: middle;\n",
       "    }\n",
       "\n",
       "    .dataframe tbody tr th {\n",
       "        vertical-align: top;\n",
       "    }\n",
       "\n",
       "    .dataframe thead th {\n",
       "        text-align: right;\n",
       "    }\n",
       "</style>\n",
       "<table border=\"1\" class=\"dataframe\">\n",
       "  <thead>\n",
       "    <tr style=\"text-align: right;\">\n",
       "      <th></th>\n",
       "      <th>Price</th>\n",
       "      <th>Number of Ratings</th>\n",
       "      <th>Number of Reviews</th>\n",
       "      <th>brand</th>\n",
       "      <th>processor_brand</th>\n",
       "      <th>processor_name</th>\n",
       "      <th>processor_gnrtn</th>\n",
       "      <th>ram_gb</th>\n",
       "      <th>ram_type</th>\n",
       "      <th>ssd</th>\n",
       "      <th>hdd</th>\n",
       "      <th>os</th>\n",
       "      <th>os_bit</th>\n",
       "      <th>graphic_card_gb</th>\n",
       "      <th>weight</th>\n",
       "      <th>warranty</th>\n",
       "      <th>Touchscreen</th>\n",
       "      <th>msoffice</th>\n",
       "      <th>rating</th>\n",
       "    </tr>\n",
       "  </thead>\n",
       "  <tbody>\n",
       "    <tr>\n",
       "      <th>0</th>\n",
       "      <td>0.090669</td>\n",
       "      <td>0.000980</td>\n",
       "      <td>0.000000</td>\n",
       "      <td>0.142857</td>\n",
       "      <td>0.5</td>\n",
       "      <td>0.1</td>\n",
       "      <td>0.0</td>\n",
       "      <td>0.666667</td>\n",
       "      <td>0.2</td>\n",
       "      <td>0.0</td>\n",
       "      <td>0.333333</td>\n",
       "      <td>1.0</td>\n",
       "      <td>1.0</td>\n",
       "      <td>0.00</td>\n",
       "      <td>0.0</td>\n",
       "      <td>1.0</td>\n",
       "      <td>0.0</td>\n",
       "      <td>0.0</td>\n",
       "      <td>0.25</td>\n",
       "    </tr>\n",
       "    <tr>\n",
       "      <th>1</th>\n",
       "      <td>0.113004</td>\n",
       "      <td>0.021228</td>\n",
       "      <td>0.013333</td>\n",
       "      <td>0.714286</td>\n",
       "      <td>0.5</td>\n",
       "      <td>0.1</td>\n",
       "      <td>0.0</td>\n",
       "      <td>0.666667</td>\n",
       "      <td>0.2</td>\n",
       "      <td>0.0</td>\n",
       "      <td>0.333333</td>\n",
       "      <td>1.0</td>\n",
       "      <td>1.0</td>\n",
       "      <td>0.00</td>\n",
       "      <td>0.0</td>\n",
       "      <td>1.0</td>\n",
       "      <td>0.0</td>\n",
       "      <td>0.0</td>\n",
       "      <td>0.50</td>\n",
       "    </tr>\n",
       "    <tr>\n",
       "      <th>2</th>\n",
       "      <td>0.118138</td>\n",
       "      <td>0.002613</td>\n",
       "      <td>0.002667</td>\n",
       "      <td>0.714286</td>\n",
       "      <td>0.5</td>\n",
       "      <td>0.1</td>\n",
       "      <td>0.0</td>\n",
       "      <td>0.666667</td>\n",
       "      <td>0.2</td>\n",
       "      <td>0.0</td>\n",
       "      <td>0.333333</td>\n",
       "      <td>1.0</td>\n",
       "      <td>1.0</td>\n",
       "      <td>0.00</td>\n",
       "      <td>0.0</td>\n",
       "      <td>1.0</td>\n",
       "      <td>0.0</td>\n",
       "      <td>0.0</td>\n",
       "      <td>0.50</td>\n",
       "    </tr>\n",
       "    <tr>\n",
       "      <th>3</th>\n",
       "      <td>0.272126</td>\n",
       "      <td>0.000000</td>\n",
       "      <td>0.000000</td>\n",
       "      <td>0.142857</td>\n",
       "      <td>0.5</td>\n",
       "      <td>0.2</td>\n",
       "      <td>0.0</td>\n",
       "      <td>1.000000</td>\n",
       "      <td>0.2</td>\n",
       "      <td>1.0</td>\n",
       "      <td>0.000000</td>\n",
       "      <td>1.0</td>\n",
       "      <td>0.0</td>\n",
       "      <td>0.25</td>\n",
       "      <td>0.0</td>\n",
       "      <td>1.0</td>\n",
       "      <td>0.0</td>\n",
       "      <td>0.0</td>\n",
       "      <td>0.50</td>\n",
       "    </tr>\n",
       "    <tr>\n",
       "      <th>4</th>\n",
       "      <td>0.051344</td>\n",
       "      <td>0.000000</td>\n",
       "      <td>0.000000</td>\n",
       "      <td>0.142857</td>\n",
       "      <td>0.5</td>\n",
       "      <td>0.0</td>\n",
       "      <td>1.0</td>\n",
       "      <td>0.666667</td>\n",
       "      <td>0.2</td>\n",
       "      <td>0.0</td>\n",
       "      <td>1.000000</td>\n",
       "      <td>1.0</td>\n",
       "      <td>1.0</td>\n",
       "      <td>0.00</td>\n",
       "      <td>0.0</td>\n",
       "      <td>1.0</td>\n",
       "      <td>0.0</td>\n",
       "      <td>0.0</td>\n",
       "      <td>0.50</td>\n",
       "    </tr>\n",
       "  </tbody>\n",
       "</table>\n",
       "</div>"
      ],
      "text/plain": [
       "      Price  Number of Ratings  Number of Reviews     brand  processor_brand  \\\n",
       "0  0.090669           0.000980           0.000000  0.142857              0.5   \n",
       "1  0.113004           0.021228           0.013333  0.714286              0.5   \n",
       "2  0.118138           0.002613           0.002667  0.714286              0.5   \n",
       "3  0.272126           0.000000           0.000000  0.142857              0.5   \n",
       "4  0.051344           0.000000           0.000000  0.142857              0.5   \n",
       "\n",
       "   processor_name  processor_gnrtn    ram_gb  ram_type  ssd       hdd   os  \\\n",
       "0             0.1              0.0  0.666667       0.2  0.0  0.333333  1.0   \n",
       "1             0.1              0.0  0.666667       0.2  0.0  0.333333  1.0   \n",
       "2             0.1              0.0  0.666667       0.2  0.0  0.333333  1.0   \n",
       "3             0.2              0.0  1.000000       0.2  1.0  0.000000  1.0   \n",
       "4             0.0              1.0  0.666667       0.2  0.0  1.000000  1.0   \n",
       "\n",
       "   os_bit  graphic_card_gb  weight  warranty  Touchscreen  msoffice  rating  \n",
       "0     1.0             0.00     0.0       1.0          0.0       0.0    0.25  \n",
       "1     1.0             0.00     0.0       1.0          0.0       0.0    0.50  \n",
       "2     1.0             0.00     0.0       1.0          0.0       0.0    0.50  \n",
       "3     0.0             0.25     0.0       1.0          0.0       0.0    0.50  \n",
       "4     1.0             0.00     0.0       1.0          0.0       0.0    0.50  "
      ]
     },
     "execution_count": 135,
     "metadata": {},
     "output_type": "execute_result"
    }
   ],
   "source": [
    "df1.head()"
   ]
  },
  {
   "cell_type": "code",
   "execution_count": 136,
   "id": "9e19cdcc",
   "metadata": {},
   "outputs": [
    {
     "data": {
      "text/plain": [
       "(768, 19)"
      ]
     },
     "execution_count": 136,
     "metadata": {},
     "output_type": "execute_result"
    }
   ],
   "source": [
    "df1.shape"
   ]
  },
  {
   "cell_type": "markdown",
   "id": "6f832a80",
   "metadata": {},
   "source": [
    "Train Test Split"
   ]
  },
  {
   "cell_type": "code",
   "execution_count": 137,
   "id": "2a96f7a2",
   "metadata": {},
   "outputs": [],
   "source": [
    "X = df1.drop('Price',axis=1)\n",
    "y = df1['Price']"
   ]
  },
  {
   "cell_type": "code",
   "execution_count": 173,
   "id": "85161806",
   "metadata": {},
   "outputs": [],
   "source": [
    "from sklearn.model_selection import train_test_split\n",
    "\n",
    "# Split the data into train and test sets\n",
    "X_train, X_test, y_train, y_test = train_test_split(X, y, test_size=0.2, random_state=42)"
   ]
  },
  {
   "cell_type": "code",
   "execution_count": 174,
   "id": "8cd1dc4b",
   "metadata": {},
   "outputs": [
    {
     "data": {
      "text/plain": [
       "(614, 18)"
      ]
     },
     "execution_count": 174,
     "metadata": {},
     "output_type": "execute_result"
    }
   ],
   "source": [
    "X_train.shape"
   ]
  },
  {
   "cell_type": "code",
   "execution_count": 175,
   "id": "e90dbb26",
   "metadata": {},
   "outputs": [
    {
     "data": {
      "text/plain": [
       "(154, 18)"
      ]
     },
     "execution_count": 175,
     "metadata": {},
     "output_type": "execute_result"
    }
   ],
   "source": [
    "X_test.shape"
   ]
  },
  {
   "cell_type": "code",
   "execution_count": 176,
   "id": "739d9f50",
   "metadata": {},
   "outputs": [
    {
     "data": {
      "text/plain": [
       "(614,)"
      ]
     },
     "execution_count": 176,
     "metadata": {},
     "output_type": "execute_result"
    }
   ],
   "source": [
    "y_train.shape"
   ]
  },
  {
   "cell_type": "code",
   "execution_count": 177,
   "id": "73c594d9",
   "metadata": {},
   "outputs": [
    {
     "name": "stderr",
     "output_type": "stream",
     "text": [
      "                                                                                                                       "
     ]
    },
    {
     "name": "stdout",
     "output_type": "stream",
     "text": [
      "                                    Model     MAE     MSE    RMSE      R2  \\\n",
      "gbr           Gradient Boosting Regressor  0.0473  0.0053  0.0716  0.8147   \n",
      "xgboost         Extreme Gradient Boosting  0.0456  0.0055  0.0727  0.8092   \n",
      "rf                Random Forest Regressor  0.0469  0.0060  0.0762  0.7941   \n",
      "et                  Extra Trees Regressor  0.0509  0.0068  0.0814  0.7607   \n",
      "lightgbm  Light Gradient Boosting Machine  0.0583  0.0084  0.0902  0.7067   \n",
      "dt                Decision Tree Regressor  0.0596  0.0098  0.0982  0.6455   \n",
      "ridge                    Ridge Regression  0.0759  0.0126  0.1106  0.5628   \n",
      "br                         Bayesian Ridge  0.0756  0.0126  0.1107  0.5615   \n",
      "huber                     Huber Regressor  0.0714  0.0130  0.1119  0.5582   \n",
      "lar                Least Angle Regression  0.0757  0.0127  0.1114  0.5568   \n",
      "lr                      Linear Regression  0.0757  0.0127  0.1114  0.5568   \n",
      "ada                    AdaBoost Regressor  0.1000  0.0141  0.1183  0.4936   \n",
      "knn                 K Neighbors Regressor  0.0842  0.0166  0.1267  0.4233   \n",
      "omp           Orthogonal Matching Pursuit  0.1142  0.0231  0.1501  0.2065   \n",
      "par          Passive Aggressive Regressor  0.1253  0.0268  0.1605  0.0082   \n",
      "lasso                    Lasso Regression  0.1317  0.0296  0.1709 -0.0236   \n",
      "en                            Elastic Net  0.1317  0.0296  0.1709 -0.0236   \n",
      "llar         Lasso Least Angle Regression  0.1317  0.0296  0.1709 -0.0236   \n",
      "dummy                     Dummy Regressor  0.1317  0.0296  0.1709 -0.0236   \n",
      "\n",
      "           RMSLE    MAPE  TT (Sec)  \n",
      "gbr       0.0501  0.2367     0.153  \n",
      "xgboost   0.0498  0.2325     0.157  \n",
      "rf        0.0529  0.2325     0.209  \n",
      "et        0.0566  0.2470     0.210  \n",
      "lightgbm  0.0629  0.2621     0.139  \n",
      "dt        0.0678  0.2757     0.118  \n",
      "ridge     0.0801  0.4119     0.117  \n",
      "br        0.0802  0.4162     0.117  \n",
      "huber     0.0798  0.3796     0.125  \n",
      "lar       0.0807  0.4416     0.117  \n",
      "lr        0.0807  0.4416     0.138  \n",
      "ada       0.0904  0.8812     0.166  \n",
      "knn       0.0913  0.3974     0.121  \n",
      "omp       0.1111  0.9190     0.117  \n",
      "par       0.1173  0.8795     0.119  \n",
      "lasso     0.1265  1.1307     0.142  \n",
      "en        0.1265  1.1307     0.116  \n",
      "llar      0.1265  1.1307     0.119  \n",
      "dummy     0.1265  1.1307     0.134  \n",
      "GradientBoostingRegressor(alpha=0.9, ccp_alpha=0.0, criterion='friedman_mse',\n",
      "                          init=None, learning_rate=0.1, loss='squared_error',\n",
      "                          max_depth=3, max_features=None, max_leaf_nodes=None,\n",
      "                          min_impurity_decrease=0.0, min_samples_leaf=1,\n",
      "                          min_samples_split=2, min_weight_fraction_leaf=0.0,\n",
      "                          n_estimators=100, n_iter_no_change=None,\n",
      "                          random_state=6093, subsample=1.0, tol=0.0001,\n",
      "                          validation_fraction=0.1, verbose=0, warm_start=False)\n"
     ]
    },
    {
     "name": "stderr",
     "output_type": "stream",
     "text": [
      "\r"
     ]
    }
   ],
   "source": [
    "# compare machine learning algorithms on the  dataset\n",
    "from pycaret.regression import setup\n",
    "from pycaret.regression import compare_models\n",
    "grid = setup(data=X_train, target=y_train, html=False, verbose=False)\n",
    "# evaluate models and compare models\n",
    "best = compare_models()\n",
    "# report the best model\n",
    "print(best)"
   ]
  },
  {
   "cell_type": "markdown",
   "id": "374be1e3",
   "metadata": {},
   "source": [
    "Base Models Building"
   ]
  },
  {
   "cell_type": "code",
   "execution_count": 186,
   "id": "fda2a1d6",
   "metadata": {},
   "outputs": [],
   "source": [
    "from sklearn.tree import DecisionTreeRegressor\n",
    "from sklearn.neighbors import KNeighborsRegressor\n",
    "from sklearn.ensemble import RandomForestRegressor\n",
    "from sklearn.ensemble import ExtraTreesRegressor\n",
    "from sklearn.ensemble import GradientBoostingRegressor\n",
    "from xgboost import XGBRegressor\n",
    "from sklearn.metrics import r2_score\n"
   ]
  },
  {
   "cell_type": "code",
   "execution_count": 209,
   "id": "2482fdd4",
   "metadata": {},
   "outputs": [],
   "source": [
    "dt = DecisionTreeRegressor(max_depth=5)\n",
    "knn = KNeighborsRegressor(n_neighbors=5)\n",
    "rf = RandomForestRegressor(n_estimators=100,random_state=42)\n",
    "et = ExtraTreesRegressor(n_estimators=100,random_state=42)\n",
    "gbr = GradientBoostingRegressor(n_estimators=100,random_state=42)\n",
    "xgb = XGBRegressor(n_estimators=100,random_state=42)\n",
    "\n"
   ]
  },
  {
   "cell_type": "code",
   "execution_count": 212,
   "id": "a64c83ba",
   "metadata": {},
   "outputs": [
    {
     "name": "stdout",
     "output_type": "stream",
     "text": [
      "R-squared score: 0.6095039614663712\n"
     ]
    }
   ],
   "source": [
    "# Decision Tree\n",
    "dt.fit(X_train, y_train)\n",
    "\n",
    "# Predict on the test data\n",
    "y_pred = dt.predict(X_test)\n",
    "\n",
    "# Calculate R-squared score\n",
    "r2_dt = r2_score(y_test, y_pred)\n",
    "\n",
    "print(\"R-squared score:\", r2_dt)\n",
    "\n"
   ]
  },
  {
   "cell_type": "code",
   "execution_count": 213,
   "id": "b681c8ad",
   "metadata": {},
   "outputs": [
    {
     "name": "stdout",
     "output_type": "stream",
     "text": [
      "R-square score: 0.624386415426839\n"
     ]
    }
   ],
   "source": [
    "#KNN \n",
    "knn.fit(X_train, y_train)\n",
    "# Predict on test data\n",
    "y_pred = knn.predict(X_test)\n",
    "r2_knn= r2_score(y_test,y_pred)\n",
    "print('R-square score:' ,r2_knn)"
   ]
  },
  {
   "cell_type": "code",
   "execution_count": 214,
   "id": "6a0b6e12",
   "metadata": {},
   "outputs": [
    {
     "name": "stdout",
     "output_type": "stream",
     "text": [
      "R-squared score: 0.8262298101650916\n"
     ]
    }
   ],
   "source": [
    "# Random Forest \n",
    "rf.fit(X_train,y_train)\n",
    "y_pred = rf.predict(X_test)\n",
    "r2_rf= r2_score(y_test, y_pred)\n",
    "print('R-squared score:' ,r2_rf)"
   ]
  },
  {
   "cell_type": "code",
   "execution_count": 215,
   "id": "a010db0f",
   "metadata": {},
   "outputs": [
    {
     "name": "stdout",
     "output_type": "stream",
     "text": [
      "R-squared score: 0.8245265705323866\n"
     ]
    }
   ],
   "source": [
    "# ExtraTrees\n",
    "et.fit(X_train,y_train)\n",
    "y_pred = et.predict(X_test)\n",
    "r2_et= r2_score(y_test, y_pred)\n",
    "print('R-squared score:' ,r2_et)\n"
   ]
  },
  {
   "cell_type": "code",
   "execution_count": 216,
   "id": "07827aec",
   "metadata": {},
   "outputs": [
    {
     "name": "stdout",
     "output_type": "stream",
     "text": [
      "R-squared score: 0.7733492896445587\n"
     ]
    }
   ],
   "source": [
    "# Gradient Boosting\n",
    "gbr.fit(X_train,y_train)\n",
    "y_pred = gbr.predict(X_test)\n",
    "r2_gbm= r2_score(y_test, y_pred)\n",
    "print('R-squared score:' ,r2_gbm)"
   ]
  },
  {
   "cell_type": "code",
   "execution_count": 217,
   "id": "e43d3b8d",
   "metadata": {},
   "outputs": [
    {
     "name": "stdout",
     "output_type": "stream",
     "text": [
      "R-squared score: 0.8267585797369597\n"
     ]
    }
   ],
   "source": [
    "# XG Boost\n",
    "xgb.fit(X_train,y_train)\n",
    "y_pred = xgb.predict(X_test)\n",
    "r2_xgb= r2_score(y_test, y_pred)\n",
    "print('R-squared score:' ,r2_xgb)"
   ]
  },
  {
   "cell_type": "markdown",
   "id": "eb8ff987",
   "metadata": {},
   "source": [
    "Base Model Comparison"
   ]
  },
  {
   "cell_type": "code",
   "execution_count": 231,
   "id": "43d8c4b3",
   "metadata": {},
   "outputs": [
    {
     "data": {
      "text/html": [
       "<div>\n",
       "<style scoped>\n",
       "    .dataframe tbody tr th:only-of-type {\n",
       "        vertical-align: middle;\n",
       "    }\n",
       "\n",
       "    .dataframe tbody tr th {\n",
       "        vertical-align: top;\n",
       "    }\n",
       "\n",
       "    .dataframe thead th {\n",
       "        text-align: right;\n",
       "    }\n",
       "</style>\n",
       "<table border=\"1\" class=\"dataframe\">\n",
       "  <thead>\n",
       "    <tr style=\"text-align: right;\">\n",
       "      <th></th>\n",
       "      <th>Model</th>\n",
       "      <th>r2_Score</th>\n",
       "    </tr>\n",
       "  </thead>\n",
       "  <tbody>\n",
       "    <tr>\n",
       "      <th>0</th>\n",
       "      <td>Decision Tree</td>\n",
       "      <td>0.609504</td>\n",
       "    </tr>\n",
       "    <tr>\n",
       "      <th>1</th>\n",
       "      <td>KNeighbors</td>\n",
       "      <td>0.624386</td>\n",
       "    </tr>\n",
       "    <tr>\n",
       "      <th>4</th>\n",
       "      <td>Gradient Boosting</td>\n",
       "      <td>0.773349</td>\n",
       "    </tr>\n",
       "    <tr>\n",
       "      <th>3</th>\n",
       "      <td>Extra Trees</td>\n",
       "      <td>0.824527</td>\n",
       "    </tr>\n",
       "    <tr>\n",
       "      <th>2</th>\n",
       "      <td>Random Forest</td>\n",
       "      <td>0.826230</td>\n",
       "    </tr>\n",
       "    <tr>\n",
       "      <th>5</th>\n",
       "      <td>XG Boot</td>\n",
       "      <td>0.826759</td>\n",
       "    </tr>\n",
       "  </tbody>\n",
       "</table>\n",
       "</div>"
      ],
      "text/plain": [
       "               Model  r2_Score\n",
       "0      Decision Tree  0.609504\n",
       "1         KNeighbors  0.624386\n",
       "4  Gradient Boosting  0.773349\n",
       "3        Extra Trees  0.824527\n",
       "2      Random Forest  0.826230\n",
       "5            XG Boot  0.826759"
      ]
     },
     "execution_count": 231,
     "metadata": {},
     "output_type": "execute_result"
    }
   ],
   "source": [
    "compare = pd.DataFrame({'Model': ['Decision Tree','KNeighbors', 'Random Forest','Extra Trees', \"Gradient Boosting\",\n",
    "                                  \"XG Boot\"], \n",
    "                        'r2_Score': [r2_dt, r2_knn, r2_rf,r2_et, r2_gbm,r2_xgb]})\n",
    "compare.sort_values(by='r2_Score', ascending=True)"
   ]
  },
  {
   "cell_type": "markdown",
   "id": "c7bbbd98",
   "metadata": {},
   "source": [
    "Hyperparameter Tunning and Building Optomized Models"
   ]
  },
  {
   "cell_type": "code",
   "execution_count": 222,
   "id": "d69b04c5",
   "metadata": {},
   "outputs": [
    {
     "name": "stdout",
     "output_type": "stream",
     "text": [
      "Fitting 5 folds for each of 108 candidates, totalling 540 fits\n",
      "{'max_depth': 10, 'max_features': 'log2', 'min_samples_leaf': 1, 'min_samples_split': 2}\n"
     ]
    }
   ],
   "source": [
    "# Decision Tree \n",
    "param_grid = {\n",
    "    'max_depth': [3, 5, 7, 10],\n",
    "    'min_samples_split': [2, 5, 10],\n",
    "    'min_samples_leaf': [1, 2, 4],\n",
    "    'max_features': ['auto', 'sqrt', 'log2']\n",
    "}\n",
    "\n",
    "grid_search = GridSearchCV(estimator=dt, param_grid=param_grid, n_jobs = -1, verbose=True)\n",
    "grid_search.fit(X_train, y_train)\n",
    "\n",
    "dt_best = grid_search.best_estimator_\n",
    "\n",
    "print(grid_search.best_params_)"
   ]
  },
  {
   "cell_type": "code",
   "execution_count": 223,
   "id": "53f1e7ad",
   "metadata": {},
   "outputs": [
    {
     "data": {
      "text/plain": [
       "DecisionTreeRegressor(ccp_alpha=0.0, criterion='squared_error', max_depth=10,\n",
       "                      max_features='log2', max_leaf_nodes=None,\n",
       "                      min_impurity_decrease=0.0, min_samples_leaf=1,\n",
       "                      min_samples_split=2, min_weight_fraction_leaf=0.0,\n",
       "                      random_state=None, splitter='best')"
      ]
     },
     "execution_count": 223,
     "metadata": {},
     "output_type": "execute_result"
    }
   ],
   "source": [
    "dt_best"
   ]
  },
  {
   "cell_type": "code",
   "execution_count": 226,
   "id": "70c6c86c",
   "metadata": {},
   "outputs": [
    {
     "name": "stdout",
     "output_type": "stream",
     "text": [
      "Optimized DT R-squared Score:  0.5900829261783236\n"
     ]
    }
   ],
   "source": [
    "y_pred = dt_best.predict(X_test)\n",
    "\n",
    "O_r2_dt = r2_score(y_test, y_pred)\n",
    "print('Optimized DT R-squared Score: ',O_r2_dt)"
   ]
  },
  {
   "cell_type": "code",
   "execution_count": 228,
   "id": "1bf7f8c2",
   "metadata": {},
   "outputs": [
    {
     "name": "stdout",
     "output_type": "stream",
     "text": [
      "Fitting 5 folds for each of 324 candidates, totalling 1620 fits\n",
      "{'max_depth': 10, 'max_features': 'sqrt', 'min_samples_leaf': 1, 'min_samples_split': 2, 'n_estimators': 500}\n"
     ]
    }
   ],
   "source": [
    "# Random Forest \n",
    "param_grid = {\n",
    "    'n_estimators': [100, 200, 500],\n",
    "    'max_depth': [3, 5, 7, 10],\n",
    "    'min_samples_split': [2, 5, 10],\n",
    "    'min_samples_leaf': [1, 2, 4],\n",
    "    'max_features': ['auto', 'sqrt', 'log2']\n",
    "}\n",
    "\n",
    "grid_search = GridSearchCV(estimator=rf, param_grid=param_grid, n_jobs = -1, cv=5,verbose=True)\n",
    "grid_search.fit(X_train, y_train)\n",
    "\n",
    "rf_best = grid_search.best_estimator_\n",
    "\n",
    "print(grid_search.best_params_)"
   ]
  },
  {
   "cell_type": "code",
   "execution_count": 229,
   "id": "3134d46a",
   "metadata": {},
   "outputs": [
    {
     "data": {
      "text/plain": [
       "RandomForestRegressor(bootstrap=True, ccp_alpha=0.0, criterion='squared_error',\n",
       "                      max_depth=10, max_features='sqrt', max_leaf_nodes=None,\n",
       "                      max_samples=None, min_impurity_decrease=0.0,\n",
       "                      min_samples_leaf=1, min_samples_split=2,\n",
       "                      min_weight_fraction_leaf=0.0, n_estimators=500,\n",
       "                      n_jobs=None, oob_score=False, random_state=42, verbose=0,\n",
       "                      warm_start=False)"
      ]
     },
     "execution_count": 229,
     "metadata": {},
     "output_type": "execute_result"
    }
   ],
   "source": [
    "rf_best"
   ]
  },
  {
   "cell_type": "code",
   "execution_count": 232,
   "id": "12914e82",
   "metadata": {},
   "outputs": [
    {
     "name": "stdout",
     "output_type": "stream",
     "text": [
      "Optimized DT R-squared Score:  0.8075251722097967\n"
     ]
    }
   ],
   "source": [
    "y_pred = rf_best.predict(X_test)\n",
    "\n",
    "O_r2_rf = r2_score(y_test, y_pred)\n",
    "print('Optimized DT R-squared Score: ',O_r2_rf)"
   ]
  }
 ],
 "metadata": {
  "kernelspec": {
   "display_name": "Python 3 (ipykernel)",
   "language": "python",
   "name": "python3"
  },
  "language_info": {
   "codemirror_mode": {
    "name": "ipython",
    "version": 3
   },
   "file_extension": ".py",
   "mimetype": "text/x-python",
   "name": "python",
   "nbconvert_exporter": "python",
   "pygments_lexer": "ipython3",
   "version": "3.9.12"
  }
 },
 "nbformat": 4,
 "nbformat_minor": 5
}
